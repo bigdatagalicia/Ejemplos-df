{
 "cells": [
  {
   "cell_type": "code",
   "execution_count": 1,
   "metadata": {},
   "outputs": [],
   "source": [
    "info=spark.read.parquet(\"nombre_parquet/\")"
   ]
  },
  {
   "cell_type": "code",
   "execution_count": 2,
   "metadata": {},
   "outputs": [
    {
     "name": "stdout",
     "output_type": "stream",
     "text": [
      "+---------+-------------------+--------------+-----+-------+-------+\n",
      "|ProductID|               Date|           Zip|Units|Revenue|Country|\n",
      "+---------+-------------------+--------------+-----+-------+-------+\n",
      "|      726|1999-01-15 00:00:00|75056 CEDEX 01|    1| 115.45| France|\n",
      "+---------+-------------------+--------------+-----+-------+-------+\n",
      "only showing top 1 row\n",
      "\n",
      "root\n",
      " |-- ProductID: integer (nullable = true)\n",
      " |-- Date: timestamp (nullable = true)\n",
      " |-- Zip: string (nullable = true)\n",
      " |-- Units: integer (nullable = true)\n",
      " |-- Revenue: double (nullable = true)\n",
      " |-- Country: string (nullable = true)\n",
      "\n"
     ]
    },
    {
     "data": {
      "text/plain": [
       "(None, None)"
      ]
     },
     "execution_count": 2,
     "metadata": {},
     "output_type": "execute_result"
    }
   ],
   "source": [
    "info.show(1),info.printSchema()"
   ]
  },
  {
   "cell_type": "code",
   "execution_count": 3,
   "metadata": {},
   "outputs": [
    {
     "data": {
      "text/plain": [
       "1341147"
      ]
     },
     "execution_count": 3,
     "metadata": {},
     "output_type": "execute_result"
    }
   ],
   "source": [
    "info.count()"
   ]
  },
  {
   "cell_type": "code",
   "execution_count": 4,
   "metadata": {},
   "outputs": [],
   "source": [
    "prod726=info.where(info.ProductID==726)"
   ]
  },
  {
   "cell_type": "code",
   "execution_count": 6,
   "metadata": {},
   "outputs": [
    {
     "name": "stdout",
     "output_type": "stream",
     "text": [
      "+---------+-------------------+--------------+-----+-------+-------+\n",
      "|ProductID|               Date|           Zip|Units|Revenue|Country|\n",
      "+---------+-------------------+--------------+-----+-------+-------+\n",
      "|      726|1999-01-15 00:00:00|75056 CEDEX 01|    1| 115.45| France|\n",
      "+---------+-------------------+--------------+-----+-------+-------+\n",
      "only showing top 1 row\n",
      "\n"
     ]
    }
   ],
   "source": [
    "prod726.show(1)"
   ]
  },
  {
   "cell_type": "code",
   "execution_count": 10,
   "metadata": {},
   "outputs": [
    {
     "name": "stdout",
     "output_type": "stream",
     "text": [
      "+---------+-------------------+--------------+-----+-------+-------+\n",
      "|ProductID|               Date|           Zip|Units|Revenue|Country|\n",
      "+---------+-------------------+--------------+-----+-------+-------+\n",
      "|      726|1999-01-15 00:00:00|75056 CEDEX 01|    1| 115.45| France|\n",
      "+---------+-------------------+--------------+-----+-------+-------+\n",
      "only showing top 1 row\n",
      "\n"
     ]
    }
   ],
   "source": [
    "info.where(info.Date==\"1999-01-15 00:00:00\").show(1)"
   ]
  },
  {
   "cell_type": "code",
   "execution_count": 11,
   "metadata": {},
   "outputs": [],
   "source": [
    "from pyspark.sql.functions import *\n",
    "\n",
    "info1999=info.where(year(info.Date)==1999)"
   ]
  },
  {
   "cell_type": "code",
   "execution_count": 12,
   "metadata": {},
   "outputs": [
    {
     "name": "stdout",
     "output_type": "stream",
     "text": [
      "+---------+-------------------+--------------+-----+-------+-------+\n",
      "|ProductID|               Date|           Zip|Units|Revenue|Country|\n",
      "+---------+-------------------+--------------+-----+-------+-------+\n",
      "|      726|1999-01-15 00:00:00|75056 CEDEX 01|    1| 115.45| France|\n",
      "|     1909|1999-01-15 00:00:00|75056 CEDEX 01|    2|  398.9| France|\n",
      "|     1961|1999-02-15 00:00:00|75056 CEDEX 01|    1|  97.07| France|\n",
      "|     1517|1999-02-15 00:00:00|75056 CEDEX 01|    1| 141.65| France|\n",
      "|      606|1999-02-15 00:00:00|75056 CEDEX 01|    1| 314.74| France|\n",
      "|     1518|1999-02-15 00:00:00|75056 CEDEX 01|    1| 141.65| France|\n",
      "|      727|1999-01-15 00:00:00|75063 CEDEX 02|    2|  125.9| France|\n",
      "|      559|1999-01-15 00:00:00|75063 CEDEX 02|    1| 585.64| France|\n",
      "|      728|1999-01-15 00:00:00|75063 CEDEX 02|    2|  125.9| France|\n",
      "|     1535|1999-02-15 00:00:00|75063 CEDEX 02|    1| 309.65| France|\n",
      "|     1536|1999-02-15 00:00:00|75063 CEDEX 02|    1| 309.65| France|\n",
      "|      757|1999-01-15 00:00:00|75048 CEDEX 01|    2|  167.9| France|\n",
      "|     2047|1999-02-15 00:00:00|75048 CEDEX 01|    1|  372.7| France|\n",
      "|      758|1999-03-15 00:00:00|         75003|    1|  83.95| France|\n",
      "|      767|1999-01-15 00:00:00|         75020|    1| 104.95| France|\n",
      "|     2199|1999-01-15 00:00:00|         75020|    1| 175.82| France|\n",
      "|     2254|1999-01-15 00:00:00|         75020|    1|   57.7| France|\n",
      "|      768|1999-01-15 00:00:00|         75020|    1| 104.95| France|\n",
      "|      767|1999-02-15 00:00:00|         75020|    1| 104.95| France|\n",
      "|     2277|1999-02-15 00:00:00|         75020|    1| 251.95| France|\n",
      "+---------+-------------------+--------------+-----+-------+-------+\n",
      "only showing top 20 rows\n",
      "\n"
     ]
    }
   ],
   "source": [
    "info1999.show()"
   ]
  },
  {
   "cell_type": "code",
   "execution_count": 31,
   "metadata": {},
   "outputs": [],
   "source": [
    "porMeses1999=info1999.groupBy(month(info1999.Date)).sum(\"Units\")\\\n",
    "    .toDF(\"Mes\",\"Unidades\").orderBy(\"Mes\")\n"
   ]
  },
  {
   "cell_type": "code",
   "execution_count": 32,
   "metadata": {},
   "outputs": [
    {
     "name": "stdout",
     "output_type": "stream",
     "text": [
      "+---+--------+\n",
      "|Mes|Unidades|\n",
      "+---+--------+\n",
      "|  1|   21097|\n",
      "|  2|   31643|\n",
      "|  3|   53604|\n",
      "|  4|   60639|\n",
      "|  5|   59820|\n",
      "|  6|   54003|\n",
      "|  7|   46632|\n",
      "|  8|   38748|\n",
      "|  9|   35632|\n",
      "| 10|    8772|\n",
      "| 11|    2568|\n",
      "| 12|    4087|\n",
      "+---+--------+\n",
      "\n"
     ]
    }
   ],
   "source": [
    "porMeses1999.show()"
   ]
  },
  {
   "cell_type": "code",
   "execution_count": 35,
   "metadata": {},
   "outputs": [
    {
     "data": {
      "text/plain": [
       "<matplotlib.axes._subplots.AxesSubplot at 0x7f99bc774b00>"
      ]
     },
     "execution_count": 35,
     "metadata": {},
     "output_type": "execute_result"
    },
    {
     "data": {
      "image/png": "[encoded data removed]",
      "text/plain": [
       "<Figure size 432x288 with 1 Axes>"
      ]
     },
     "metadata": {
      "needs_background": "light"
     },
     "output_type": "display_data"
    }
   ],
   "source": [
    "porMeses1999.toPandas().plot.bar(x=\"Mes\",y=\"Unidades\")"
   ]
  },
  {
   "cell_type": "code",
   "execution_count": 44,
   "metadata": {},
   "outputs": [],
   "source": [
    "productos=spark.read.csv(\"bi_product.txt\",sep=\"\\t\",header=True,                        \n",
    "    inferSchema=True).drop(\"ManufacturerID\")"
   ]
  },
  {
   "cell_type": "code",
   "execution_count": 45,
   "metadata": {},
   "outputs": [
    {
     "name": "stdout",
     "output_type": "stream",
     "text": [
      "+---------+-----------+--------+----------+------------+\n",
      "|ProductID|    Product|Category|   Segment|Manufacturer|\n",
      "+---------+-----------+--------+----------+------------+\n",
      "|        1|Abbas MA-01|     Mix|All Season|       Abbas|\n",
      "+---------+-----------+--------+----------+------------+\n",
      "only showing top 1 row\n",
      "\n",
      "root\n",
      " |-- ProductID: integer (nullable = true)\n",
      " |-- Product: string (nullable = true)\n",
      " |-- Category: string (nullable = true)\n",
      " |-- Segment: string (nullable = true)\n",
      " |-- Manufacturer: string (nullable = true)\n",
      "\n"
     ]
    },
    {
     "data": {
      "text/plain": [
       "(None, None)"
      ]
     },
     "execution_count": 45,
     "metadata": {},
     "output_type": "execute_result"
    }
   ],
   "source": [
    "productos.show(1),productos.printSchema()"
   ]
  },
  {
   "cell_type": "code",
   "execution_count": 52,
   "metadata": {},
   "outputs": [],
   "source": [
    "infoP=info.join(productos,\"ProductID\",\"left\")"
   ]
  },
  {
   "cell_type": "code",
   "execution_count": 53,
   "metadata": {},
   "outputs": [
    {
     "data": {
      "text/plain": [
       "(1341147, 1341147, 2412)"
      ]
     },
     "execution_count": 53,
     "metadata": {},
     "output_type": "execute_result"
    }
   ],
   "source": [
    "infoP.count(),info.count(),productos.count()"
   ]
  },
  {
   "cell_type": "code",
   "execution_count": 60,
   "metadata": {},
   "outputs": [
    {
     "name": "stdout",
     "output_type": "stream",
     "text": [
      "-RECORD 0---------------------------\n",
      " ProductID    | 726                 \n",
      " Date         | 1999-01-15 00:00:00 \n",
      " Zip          | 75056 CEDEX 01      \n",
      " Units        | 1                   \n",
      " Revenue      | 115.45              \n",
      " Country      | France              \n",
      " Product      | Natura RP-14        \n",
      " Category     | Rural               \n",
      " Segment      | Productivity        \n",
      " Manufacturer | Natura              \n",
      "-RECORD 1---------------------------\n",
      " ProductID    | 1909                \n",
      " Date         | 1999-01-15 00:00:00 \n",
      " Zip          | 75056 CEDEX 01      \n",
      " Units        | 2                   \n",
      " Revenue      | 398.9               \n",
      " Country      | France              \n",
      " Product      | Currus MA-02        \n",
      " Category     | Mix                 \n",
      " Segment      | All Season          \n",
      " Manufacturer | Currus              \n",
      "-RECORD 2---------------------------\n",
      " ProductID    | 1961                \n",
      " Date         | 1999-02-15 00:00:00 \n",
      " Zip          | 75056 CEDEX 01      \n",
      " Units        | 1                   \n",
      " Revenue      | 97.07               \n",
      " Country      | France              \n",
      " Product      | Currus RP-36        \n",
      " Category     | Rural               \n",
      " Segment      | Productivity        \n",
      " Manufacturer | Currus              \n",
      "-RECORD 3---------------------------\n",
      " ProductID    | 1517                \n",
      " Date         | 1999-02-15 00:00:00 \n",
      " Zip          | 75056 CEDEX 01      \n",
      " Units        | 1                   \n",
      " Revenue      | 141.65              \n",
      " Country      | France              \n",
      " Product      | Quibus RP-09        \n",
      " Category     | Rural               \n",
      " Segment      | Productivity        \n",
      " Manufacturer | Quibus              \n",
      "-RECORD 4---------------------------\n",
      " ProductID    | 606                 \n",
      " Date         | 1999-02-15 00:00:00 \n",
      " Zip          | 75056 CEDEX 01      \n",
      " Units        | 1                   \n",
      " Revenue      | 314.74              \n",
      " Country      | France              \n",
      " Product      | Maximus UC-71       \n",
      " Category     | Urban               \n",
      " Segment      | Convenience         \n",
      " Manufacturer | VanArsdel           \n",
      "-RECORD 5---------------------------\n",
      " ProductID    | 1518                \n",
      " Date         | 1999-02-15 00:00:00 \n",
      " Zip          | 75056 CEDEX 01      \n",
      " Units        | 1                   \n",
      " Revenue      | 141.65              \n",
      " Country      | France              \n",
      " Product      | Quibus RP-10        \n",
      " Category     | Rural               \n",
      " Segment      | Productivity        \n",
      " Manufacturer | Quibus              \n",
      "-RECORD 6---------------------------\n",
      " ProductID    | 786                 \n",
      " Date         | 2002-05-31 00:00:00 \n",
      " Zip          | 75001               \n",
      " Units        | 1                   \n",
      " Revenue      | 68.2                \n",
      " Country      | France              \n",
      " Product      | Natura RP-74        \n",
      " Category     | Rural               \n",
      " Segment      | Productivity        \n",
      " Manufacturer | Natura              \n",
      "-RECORD 7---------------------------\n",
      " ProductID    | 727                 \n",
      " Date         | 1999-01-15 00:00:00 \n",
      " Zip          | 75063 CEDEX 02      \n",
      " Units        | 2                   \n",
      " Revenue      | 125.9               \n",
      " Country      | France              \n",
      " Product      | Natura RP-15        \n",
      " Category     | Rural               \n",
      " Segment      | Productivity        \n",
      " Manufacturer | Natura              \n",
      "-RECORD 8---------------------------\n",
      " ProductID    | 559                 \n",
      " Date         | 1999-01-15 00:00:00 \n",
      " Zip          | 75063 CEDEX 02      \n",
      " Units        | 1                   \n",
      " Revenue      | 585.64              \n",
      " Country      | France              \n",
      " Product      | Maximus UC-24       \n",
      " Category     | Urban               \n",
      " Segment      | Convenience         \n",
      " Manufacturer | VanArsdel           \n",
      "-RECORD 9---------------------------\n",
      " ProductID    | 728                 \n",
      " Date         | 1999-01-15 00:00:00 \n",
      " Zip          | 75063 CEDEX 02      \n",
      " Units        | 2                   \n",
      " Revenue      | 125.9               \n",
      " Country      | France              \n",
      " Product      | Natura RP-16        \n",
      " Category     | Rural               \n",
      " Segment      | Productivity        \n",
      " Manufacturer | Natura              \n",
      "-RECORD 10--------------------------\n",
      " ProductID    | 964                 \n",
      " Date         | 2003-04-10 00:00:00 \n",
      " Zip          | 75063 CEDEX 02      \n",
      " Units        | 1                   \n",
      " Revenue      | 320.2               \n",
      " Country      | France              \n",
      " Product      | Natura UC-27        \n",
      " Category     | Urban               \n",
      " Segment      | Convenience         \n",
      " Manufacturer | Natura              \n",
      "-RECORD 11--------------------------\n",
      " ProductID    | 475                 \n",
      " Date         | 2003-04-11 00:00:00 \n",
      " Zip          | 75063 CEDEX 02      \n",
      " Units        | 1                   \n",
      " Revenue      | 1037.4              \n",
      " Country      | France              \n",
      " Product      | Maximus UM-80       \n",
      " Category     | Urban               \n",
      " Segment      | Moderation          \n",
      " Manufacturer | VanArsdel           \n",
      "-RECORD 12--------------------------\n",
      " ProductID    | 2055                \n",
      " Date         | 2002-06-05 00:00:00 \n",
      " Zip          | 75063 CEDEX 02      \n",
      " Units        | 1                   \n",
      " Revenue      | 569.57              \n",
      " Country      | France              \n",
      " Product      | Currus UE-15        \n",
      " Category     | Urban               \n",
      " Segment      | Extreme             \n",
      " Manufacturer | Currus              \n",
      "-RECORD 13--------------------------\n",
      " ProductID    | 1535                \n",
      " Date         | 1999-02-15 00:00:00 \n",
      " Zip          | 75063 CEDEX 02      \n",
      " Units        | 1                   \n",
      " Revenue      | 309.65              \n",
      " Country      | France              \n",
      " Product      | Quibus RP-27        \n",
      " Category     | Rural               \n",
      " Segment      | Productivity        \n",
      " Manufacturer | Quibus              \n",
      "-RECORD 14--------------------------\n",
      " ProductID    | 1536                \n",
      " Date         | 1999-02-15 00:00:00 \n",
      " Zip          | 75063 CEDEX 02      \n",
      " Units        | 1                   \n",
      " Revenue      | 309.65              \n",
      " Country      | France              \n",
      " Product      | Quibus RP-28        \n",
      " Category     | Rural               \n",
      " Segment      | Productivity        \n",
      " Manufacturer | Quibus              \n",
      "-RECORD 15--------------------------\n",
      " ProductID    | 757                 \n",
      " Date         | 1999-01-15 00:00:00 \n",
      " Zip          | 75048 CEDEX 01      \n",
      " Units        | 2                   \n",
      " Revenue      | 167.9               \n",
      " Country      | France              \n",
      " Product      | Natura RP-45        \n",
      " Category     | Rural               \n",
      " Segment      | Productivity        \n",
      " Manufacturer | Natura              \n",
      "-RECORD 16--------------------------\n",
      " ProductID    | 2047                \n",
      " Date         | 1999-02-15 00:00:00 \n",
      " Zip          | 75048 CEDEX 01      \n",
      " Units        | 1                   \n",
      " Revenue      | 372.7               \n",
      " Country      | France              \n",
      " Product      | Currus UE-07        \n",
      " Category     | Urban               \n",
      " Segment      | Extreme             \n",
      " Manufacturer | Currus              \n",
      "-RECORD 17--------------------------\n",
      " ProductID    | 758                 \n",
      " Date         | 1999-03-15 00:00:00 \n",
      " Zip          | 75003               \n",
      " Units        | 1                   \n",
      " Revenue      | 83.95               \n",
      " Country      | France              \n",
      " Product      | Natura RP-46        \n",
      " Category     | Rural               \n",
      " Segment      | Productivity        \n",
      " Manufacturer | Natura              \n",
      "-RECORD 18--------------------------\n",
      " ProductID    | 767                 \n",
      " Date         | 1999-01-15 00:00:00 \n",
      " Zip          | 75020               \n",
      " Units        | 1                   \n",
      " Revenue      | 104.95              \n",
      " Country      | France              \n",
      " Product      | Natura RP-55        \n",
      " Category     | Rural               \n",
      " Segment      | Productivity        \n",
      " Manufacturer | Natura              \n",
      "-RECORD 19--------------------------\n",
      " ProductID    | 2199                \n",
      " Date         | 1999-01-15 00:00:00 \n",
      " Zip          | 75020               \n",
      " Units        | 1                   \n",
      " Revenue      | 175.82              \n",
      " Country      | France              \n",
      " Product      | Aliqui MA-13        \n",
      " Category     | Mix                 \n",
      " Segment      | All Season          \n",
      " Manufacturer | Aliqui              \n",
      "only showing top 20 rows\n",
      "\n"
     ]
    }
   ],
   "source": [
    "infoP.show(vertical=True)"
   ]
  },
  {
   "cell_type": "code",
   "execution_count": 61,
   "metadata": {},
   "outputs": [
    {
     "name": "stdout",
     "output_type": "stream",
     "text": [
      "+--------+\n",
      "|Category|\n",
      "+--------+\n",
      "|     Mix|\n",
      "|   Urban|\n",
      "|   Youth|\n",
      "|   Rural|\n",
      "+--------+\n",
      "\n"
     ]
    }
   ],
   "source": [
    "infoP.select(\"Category\").distinct().show()"
   ]
  },
  {
   "cell_type": "code",
   "execution_count": 62,
   "metadata": {},
   "outputs": [
    {
     "name": "stdout",
     "output_type": "stream",
     "text": [
      "+------------+\n",
      "|     Segment|\n",
      "+------------+\n",
      "|  All Season|\n",
      "|     Extreme|\n",
      "|       Youth|\n",
      "|      Select|\n",
      "|Productivity|\n",
      "|     Regular|\n",
      "| Convenience|\n",
      "|  Moderation|\n",
      "+------------+\n",
      "\n"
     ]
    }
   ],
   "source": [
    "infoP.select(\"Segment\").distinct().show()"
   ]
  },
  {
   "cell_type": "code",
   "execution_count": 70,
   "metadata": {},
   "outputs": [
    {
     "name": "stdout",
     "output_type": "stream",
     "text": [
      "+----------------+-----+------+------+-----+\n",
      "|Segment_Category|  Mix| Rural| Urban|Youth|\n",
      "+----------------+-----+------+------+-----+\n",
      "|     Convenience|    0|     0|385260|    0|\n",
      "|      All Season|33533|     0|     0|    0|\n",
      "|    Productivity|  773|387128|     0|    0|\n",
      "|           Youth|    0|     0|     0|67352|\n",
      "|      Moderation|    0|     0|218468|    0|\n",
      "|         Regular|    0|     0| 25836|    0|\n",
      "|          Select|    0| 54677|     0|    0|\n",
      "|         Extreme|    0|     0|168120|    0|\n",
      "+----------------+-----+------+------+-----+\n",
      "\n"
     ]
    }
   ],
   "source": [
    "infoP.crosstab(\"Segment\",\"Category\").show()"
   ]
  },
  {
   "cell_type": "code",
   "execution_count": 71,
   "metadata": {},
   "outputs": [
    {
     "data": {
      "text/plain": [
       "<matplotlib.axes._subplots.AxesSubplot at 0x7f99bc6075c0>"
      ]
     },
     "execution_count": 71,
     "metadata": {},
     "output_type": "execute_result"
    },
    {
     "data": {
      "image/png": "[encoded data removed]",
      "text/plain": [
       "<Figure size 432x288 with 1 Axes>"
      ]
     },
     "metadata": {
      "needs_background": "light"
     },
     "output_type": "display_data"
    }
   ],
   "source": [
    "pandas=infoP.groupBy(\"Segment\").sum(\"Revenue\").toDF(\"Seg\",\"Ing\")\\\n",
    "    .orderBy(\"Ing\",ascending=False).toPandas()\n",
    "\n",
    "pandas.plot.bar(x=\"Seg\",y=\"Ing\")"
   ]
  },
  {
   "cell_type": "code",
   "execution_count": null,
   "metadata": {},
   "outputs": [],
   "source": []
  }
 ],
 "metadata": {
  "kernelspec": {
   "display_name": "Python 3",
   "language": "python",
   "name": "python3"
  },
  "language_info": {
   "codemirror_mode": {
    "name": "ipython",
    "version": 3
   },
   "file_extension": ".py",
   "mimetype": "text/x-python",
   "name": "python",
   "nbconvert_exporter": "python",
   "pygments_lexer": "ipython3",
   "version": "3.5.2"
  },
  "toc": {
   "base_numbering": 1,
   "nav_menu": {},
   "number_sections": false,
   "sideBar": false,
   "skip_h1_title": false,
   "title_cell": "Table of Contents",
   "title_sidebar": "Contents",
   "toc_cell": false,
   "toc_position": {},
   "toc_section_display": false,
   "toc_window_display": false
  }
 },
 "nbformat": 4,
 "nbformat_minor": 2
}

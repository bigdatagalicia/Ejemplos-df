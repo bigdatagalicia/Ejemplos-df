{
 "cells": [
  {
   "cell_type": "code",
   "execution_count": 34,
   "metadata": {},
   "outputs": [],
   "source": [
    "datos=spark.read.csv(\"Ventas1/\",header=True,inferSchema=True,\n",
    "                     timestampFormat=\"MM/dd/yyyy\")"
   ]
  },
  {
   "cell_type": "code",
   "execution_count": 35,
   "metadata": {},
   "outputs": [
    {
     "name": "stdout",
     "output_type": "stream",
     "text": [
      "+---------+-------------------+--------------+-----+-------+-------+\n",
      "|ProductID|               Date|           Zip|Units|Revenue|Country|\n",
      "+---------+-------------------+--------------+-----+-------+-------+\n",
      "|        1|2013-04-13 00:00:00|           T2J|    1|412.125| Canada|\n",
      "|        1|2014-04-30 00:00:00|75926 CEDEX 19|    1| 412.13| France|\n",
      "|        1|2013-04-27 00:00:00|           T2J|    1|412.125| Canada|\n",
      "|        1|2013-05-31 00:00:00|           T5J|    1|412.125| Canada|\n",
      "|        1|2013-04-23 00:00:00|75387 CEDEX 08|    1| 412.13| France|\n",
      "|        1|2013-05-10 00:00:00|75972 CEDEX 20|    1| 412.13| France|\n",
      "|        1|2013-06-26 00:00:00| 06287 CEDEX 3|    1| 412.13| France|\n",
      "|        1|2013-08-08 00:00:00|75637 CEDEX 13|    1| 412.13| France|\n",
      "|        1|2014-02-26 00:00:00|75436 CEDEX 09|    1| 412.13| France|\n",
      "|        1|2014-04-09 00:00:00|75677 CEDEX 14|    1| 412.13| France|\n",
      "+---------+-------------------+--------------+-----+-------+-------+\n",
      "only showing top 10 rows\n",
      "\n",
      "root\n",
      " |-- ProductID: integer (nullable = true)\n",
      " |-- Date: timestamp (nullable = true)\n",
      " |-- Zip: string (nullable = true)\n",
      " |-- Units: integer (nullable = true)\n",
      " |-- Revenue: double (nullable = true)\n",
      " |-- Country: string (nullable = true)\n",
      "\n"
     ]
    },
    {
     "data": {
      "text/plain": [
       "(None, None)"
      ]
     },
     "execution_count": 35,
     "metadata": {},
     "output_type": "execute_result"
    }
   ],
   "source": [
    "datos.orderBy(\"ProductID\").show(10),datos.printSchema()"
   ]
  },
  {
   "cell_type": "code",
   "execution_count": 36,
   "metadata": {},
   "outputs": [],
   "source": [
    "grupo=datos.groupBy(\"ProductID\")"
   ]
  },
  {
   "cell_type": "code",
   "execution_count": 37,
   "metadata": {},
   "outputs": [
    {
     "name": "stdout",
     "output_type": "stream",
     "text": [
      "+---------+-----+\n",
      "|ProductID|count|\n",
      "+---------+-----+\n",
      "|      833|  430|\n",
      "|     1088|   83|\n",
      "|      496| 2533|\n",
      "|     1829|   73|\n",
      "|     1959|  239|\n",
      "+---------+-----+\n",
      "only showing top 5 rows\n",
      "\n"
     ]
    }
   ],
   "source": [
    "grupo.count().show(5)"
   ]
  },
  {
   "cell_type": "code",
   "execution_count": 38,
   "metadata": {},
   "outputs": [
    {
     "name": "stdout",
     "output_type": "stream",
     "text": [
      "+---------+-------------------+\n",
      "|ProductID|       sum(Revenue)|\n",
      "+---------+-------------------+\n",
      "|      475|1.266706754000043E7|\n",
      "|      487|1.231618260750072E7|\n",
      "|      826|  9377873.357500084|\n",
      "|      506|  9244344.485000096|\n",
      "|      438|   9172772.40250015|\n",
      "+---------+-------------------+\n",
      "\n"
     ]
    }
   ],
   "source": [
    "grupo.sum(\"Revenue\").orderBy(\"sum(Revenue)\",ascending=False)\\\n",
    "    .limit(5).show()"
   ]
  },
  {
   "cell_type": "code",
   "execution_count": 39,
   "metadata": {},
   "outputs": [],
   "source": [
    "grupoP=grupo.sum(\"Revenue\").orderBy(\"sum(Revenue)\",ascending=False)\\\n",
    "    .limit(5).toPandas()"
   ]
  },
  {
   "cell_type": "code",
   "execution_count": 40,
   "metadata": {},
   "outputs": [
    {
     "data": {
      "text/plain": [
       "<matplotlib.axes._subplots.AxesSubplot at 0x7f9f898886d8>"
      ]
     },
     "execution_count": 40,
     "metadata": {},
     "output_type": "execute_result"
    },
    {
     "data": {
      "image/png": "[encoded data removed]",
      "text/plain": [
       "<Figure size 432x288 with 1 Axes>"
      ]
     },
     "metadata": {
      "needs_background": "light"
     },
     "output_type": "display_data"
    }
   ],
   "source": [
    "grupoP.plot.bar(x=\"ProductID\")"
   ]
  },
  {
   "cell_type": "code",
   "execution_count": 43,
   "metadata": {},
   "outputs": [
    {
     "name": "stdout",
     "output_type": "stream",
     "text": [
      "+-------+\n",
      "|Country|\n",
      "+-------+\n",
      "|Germany|\n",
      "| France|\n",
      "| Mexico|\n",
      "| Canada|\n",
      "+-------+\n",
      "\n"
     ]
    }
   ],
   "source": [
    "datos.select(\"Country\").distinct().show()"
   ]
  },
  {
   "cell_type": "code",
   "execution_count": 44,
   "metadata": {},
   "outputs": [
    {
     "name": "stdout",
     "output_type": "stream",
     "text": [
      "+-------+------+\n",
      "|Country| count|\n",
      "+-------+------+\n",
      "|Germany|234072|\n",
      "| France|314750|\n",
      "| Mexico|217007|\n",
      "| Canada| 75318|\n",
      "+-------+------+\n",
      "\n"
     ]
    }
   ],
   "source": [
    "datos.groupBy(\"Country\").count().show()"
   ]
  },
  {
   "cell_type": "code",
   "execution_count": 46,
   "metadata": {},
   "outputs": [
    {
     "name": "stdout",
     "output_type": "stream",
     "text": [
      "+---------+-------------------+--------------+-----+-------+-------+\n",
      "|ProductID|               Date|           Zip|Units|Revenue|Country|\n",
      "+---------+-------------------+--------------+-----+-------+-------+\n",
      "|      726|1999-01-15 00:00:00|75056 CEDEX 01|    1| 115.45| France|\n",
      "|     1909|1999-01-15 00:00:00|75056 CEDEX 01|    2|  398.9| France|\n",
      "+---------+-------------------+--------------+-----+-------+-------+\n",
      "only showing top 2 rows\n",
      "\n",
      "root\n",
      " |-- ProductID: integer (nullable = true)\n",
      " |-- Date: timestamp (nullable = true)\n",
      " |-- Zip: string (nullable = true)\n",
      " |-- Units: integer (nullable = true)\n",
      " |-- Revenue: double (nullable = true)\n",
      " |-- Country: string (nullable = true)\n",
      "\n"
     ]
    },
    {
     "data": {
      "text/plain": [
       "(None, None)"
      ]
     },
     "execution_count": 46,
     "metadata": {},
     "output_type": "execute_result"
    }
   ],
   "source": [
    "datos.show(n=2),datos.printSchema()"
   ]
  },
  {
   "cell_type": "code",
   "execution_count": 50,
   "metadata": {},
   "outputs": [
    {
     "name": "stdout",
     "output_type": "stream",
     "text": [
      "+---+-------------------+-----+---+--------+\n",
      "|_c0|                _c1|  _c2|_c3|     _c4|\n",
      "+---+-------------------+-----+---+--------+\n",
      "|833|1999-01-15 00:00:00|76108|  1|797,9475|\n",
      "|837|1999-01-15 00:00:00|33436|  1|813,6975|\n",
      "+---+-------------------+-----+---+--------+\n",
      "only showing top 2 rows\n",
      "\n",
      "root\n",
      " |-- _c0: integer (nullable = true)\n",
      " |-- _c1: timestamp (nullable = true)\n",
      " |-- _c2: integer (nullable = true)\n",
      " |-- _c3: integer (nullable = true)\n",
      " |-- _c4: string (nullable = true)\n",
      "\n"
     ]
    },
    {
     "data": {
      "text/plain": [
       "(None, None)"
      ]
     },
     "execution_count": 50,
     "metadata": {},
     "output_type": "execute_result"
    }
   ],
   "source": [
    "datosUSA=spark.read.csv(\"Ventas2/\",sep=\";\",inferSchema=True)\n",
    "datosUSA.show(2),datosUSA.printSchema()"
   ]
  },
  {
   "cell_type": "code",
   "execution_count": 65,
   "metadata": {},
   "outputs": [
    {
     "name": "stdout",
     "output_type": "stream",
     "text": [
      "+---+-------------------+-----+---+--------+-------+\n",
      "|_c0|                _c1|  _c2|_c3|     _c4|Country|\n",
      "+---+-------------------+-----+---+--------+-------+\n",
      "|833|1999-01-15 00:00:00|76108|  1|797.9475|    USA|\n",
      "|837|1999-01-15 00:00:00|33436|  1|813.6975|    USA|\n",
      "+---+-------------------+-----+---+--------+-------+\n",
      "only showing top 2 rows\n",
      "\n",
      "root\n",
      " |-- _c0: integer (nullable = true)\n",
      " |-- _c1: timestamp (nullable = true)\n",
      " |-- _c2: string (nullable = true)\n",
      " |-- _c3: integer (nullable = true)\n",
      " |-- _c4: double (nullable = true)\n",
      " |-- Country: string (nullable = false)\n",
      "\n"
     ]
    },
    {
     "data": {
      "text/plain": [
       "(None, None)"
      ]
     },
     "execution_count": 65,
     "metadata": {},
     "output_type": "execute_result"
    }
   ],
   "source": [
    "from pyspark.sql.functions import translate,lit\n",
    "\n",
    "datosUSA2=datosUSA\\\n",
    "    .withColumn(\"_c2\",datosUSA[\"_c2\"].cast(\"string\"))\\\n",
    "    .withColumn(\"_c4\",translate(\"_c4\",\",\",\".\").cast(\"double\"))\\\n",
    "    .withColumn(\"Country\",lit(\"USA\"))\n",
    "\n",
    "datosUSA2.show(2),datosUSA2.printSchema()"
   ]
  },
  {
   "cell_type": "code",
   "execution_count": 66,
   "metadata": {},
   "outputs": [],
   "source": [
    "ventasMundiales=datos.union(datosUSA2)"
   ]
  },
  {
   "cell_type": "code",
   "execution_count": 67,
   "metadata": {},
   "outputs": [
    {
     "name": "stdout",
     "output_type": "stream",
     "text": [
      "+---------+-------------------+--------------+-----+-------+-------+\n",
      "|ProductID|               Date|           Zip|Units|Revenue|Country|\n",
      "+---------+-------------------+--------------+-----+-------+-------+\n",
      "|      726|1999-01-15 00:00:00|75056 CEDEX 01|    1| 115.45| France|\n",
      "|     1909|1999-01-15 00:00:00|75056 CEDEX 01|    2|  398.9| France|\n",
      "|     1961|1999-02-15 00:00:00|75056 CEDEX 01|    1|  97.07| France|\n",
      "|     1517|1999-02-15 00:00:00|75056 CEDEX 01|    1| 141.65| France|\n",
      "|      606|1999-02-15 00:00:00|75056 CEDEX 01|    1| 314.74| France|\n",
      "|     1518|1999-02-15 00:00:00|75056 CEDEX 01|    1| 141.65| France|\n",
      "|      786|2002-05-31 00:00:00|         75001|    1|   68.2| France|\n",
      "|      727|1999-01-15 00:00:00|75063 CEDEX 02|    2|  125.9| France|\n",
      "|      559|1999-01-15 00:00:00|75063 CEDEX 02|    1| 585.64| France|\n",
      "|      728|1999-01-15 00:00:00|75063 CEDEX 02|    2|  125.9| France|\n",
      "|      964|2003-04-10 00:00:00|75063 CEDEX 02|    1|  320.2| France|\n",
      "|      475|2003-04-11 00:00:00|75063 CEDEX 02|    1| 1037.4| France|\n",
      "|     2055|2002-06-05 00:00:00|75063 CEDEX 02|    1| 569.57| France|\n",
      "|     1535|1999-02-15 00:00:00|75063 CEDEX 02|    1| 309.65| France|\n",
      "|     1536|1999-02-15 00:00:00|75063 CEDEX 02|    1| 309.65| France|\n",
      "|      757|1999-01-15 00:00:00|75048 CEDEX 01|    2|  167.9| France|\n",
      "|     2047|1999-02-15 00:00:00|75048 CEDEX 01|    1|  372.7| France|\n",
      "|      758|1999-03-15 00:00:00|         75003|    1|  83.95| France|\n",
      "|      767|1999-01-15 00:00:00|         75020|    1| 104.95| France|\n",
      "|     2199|1999-01-15 00:00:00|         75020|    1| 175.82| France|\n",
      "+---------+-------------------+--------------+-----+-------+-------+\n",
      "only showing top 20 rows\n",
      "\n"
     ]
    }
   ],
   "source": [
    "ventasMundiales.show()"
   ]
  },
  {
   "cell_type": "code",
   "execution_count": 68,
   "metadata": {},
   "outputs": [
    {
     "data": {
      "text/plain": [
       "1341147"
      ]
     },
     "execution_count": 68,
     "metadata": {},
     "output_type": "execute_result"
    }
   ],
   "source": [
    "ventasMundiales.count()"
   ]
  },
  {
   "cell_type": "code",
   "execution_count": 70,
   "metadata": {},
   "outputs": [
    {
     "data": {
      "text/plain": [
       "DataFrame[ProductID: int, Date: timestamp, Zip: string, Units: int, Revenue: double, Country: string]"
      ]
     },
     "execution_count": 70,
     "metadata": {},
     "output_type": "execute_result"
    }
   ],
   "source": [
    "ventasMundiales.cache()"
   ]
  },
  {
   "cell_type": "code",
   "execution_count": 74,
   "metadata": {},
   "outputs": [
    {
     "name": "stdout",
     "output_type": "stream",
     "text": [
      "+-------+----------+--------------------+\n",
      "|Country|sum(Units)|        sum(Revenue)|\n",
      "+-------+----------+--------------------+\n",
      "|Germany|    244265|1.3193078992016108E8|\n",
      "| France|    327730|1.4849113892019716E8|\n",
      "|    USA|    525021| 2.101612200972829E8|\n",
      "| Mexico|    223463|1.0364639787017266E8|\n",
      "| Canada|     77609|  3.41162159100349E7|\n",
      "+-------+----------+--------------------+\n",
      "\n"
     ]
    }
   ],
   "source": [
    "ventasMundiales.groupBy(\"Country\").sum(\"Units\",\"Revenue\").show()"
   ]
  },
  {
   "cell_type": "code",
   "execution_count": null,
   "metadata": {},
   "outputs": [],
   "source": []
  }
 ],
 "metadata": {
  "kernelspec": {
   "display_name": "Python 3",
   "language": "python",
   "name": "python3"
  },
  "language_info": {
   "codemirror_mode": {
    "name": "ipython",
    "version": 3
   },
   "file_extension": ".py",
   "mimetype": "text/x-python",
   "name": "python",
   "nbconvert_exporter": "python",
   "pygments_lexer": "ipython3",
   "version": "3.5.2"
  },
  "toc": {
   "base_numbering": 1,
   "nav_menu": {},
   "number_sections": false,
   "sideBar": false,
   "skip_h1_title": false,
   "title_cell": "Table of Contents",
   "title_sidebar": "Contents",
   "toc_cell": false,
   "toc_position": {},
   "toc_section_display": false,
   "toc_window_display": false
  }
 },
 "nbformat": 4,
 "nbformat_minor": 2
}

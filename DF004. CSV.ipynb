{
 "cells": [
  {
   "cell_type": "code",
   "execution_count": 10,
   "metadata": {},
   "outputs": [],
   "source": [
    "vendedores=spark.read.csv(\"vendedores.csv\",sep=\";\",\n",
    "                          header=True,inferSchema=True)"
   ]
  },
  {
   "cell_type": "code",
   "execution_count": 11,
   "metadata": {},
   "outputs": [
    {
     "name": "stdout",
     "output_type": "stream",
     "text": [
      "+------+--------+------+\n",
      "|Nombre| Empresa|Ventas|\n",
      "+------+--------+------+\n",
      "| Pedro|  Google|100000|\n",
      "| María|Facebook|200000|\n",
      "| Marta|  Google|150000|\n",
      "+------+--------+------+\n",
      "\n"
     ]
    }
   ],
   "source": [
    "vendedores.show()"
   ]
  },
  {
   "cell_type": "code",
   "execution_count": 12,
   "metadata": {},
   "outputs": [
    {
     "name": "stdout",
     "output_type": "stream",
     "text": [
      "root\n",
      " |-- Nombre: string (nullable = true)\n",
      " |-- Empresa: string (nullable = true)\n",
      " |-- Ventas: integer (nullable = true)\n",
      "\n"
     ]
    }
   ],
   "source": [
    "vendedores.printSchema()"
   ]
  },
  {
   "cell_type": "code",
   "execution_count": 14,
   "metadata": {},
   "outputs": [
    {
     "name": "stdout",
     "output_type": "stream",
     "text": [
      "+-------+------+--------+--------+\n",
      "|summary|Nombre| Empresa|  Ventas|\n",
      "+-------+------+--------+--------+\n",
      "|  count|     3|       3|       3|\n",
      "|   mean|  null|    null|150000.0|\n",
      "| stddev|  null|    null| 50000.0|\n",
      "|    min| Marta|Facebook|  100000|\n",
      "|    25%|  null|    null|  100000|\n",
      "|    50%|  null|    null|  150000|\n",
      "|    75%|  null|    null|  200000|\n",
      "|    max| Pedro|  Google|  200000|\n",
      "+-------+------+--------+--------+\n",
      "\n"
     ]
    }
   ],
   "source": [
    "vendedores.summary().show()"
   ]
  },
  {
   "cell_type": "code",
   "execution_count": 15,
   "metadata": {},
   "outputs": [],
   "source": [
    "empresas=vendedores.groupBy(\"Empresa\")"
   ]
  },
  {
   "cell_type": "code",
   "execution_count": 16,
   "metadata": {},
   "outputs": [
    {
     "name": "stdout",
     "output_type": "stream",
     "text": [
      "+--------+-----------+\n",
      "| Empresa|sum(Ventas)|\n",
      "+--------+-----------+\n",
      "|  Google|     250000|\n",
      "|Facebook|     200000|\n",
      "+--------+-----------+\n",
      "\n"
     ]
    }
   ],
   "source": [
    "empresas.sum().show()"
   ]
  },
  {
   "cell_type": "code",
   "execution_count": 30,
   "metadata": {},
   "outputs": [
    {
     "name": "stdout",
     "output_type": "stream",
     "text": [
      "+-----------+-----------+-------------------+\n",
      "|sum(Ventas)|avg(Ventas)|stddev_samp(Ventas)|\n",
      "+-----------+-----------+-------------------+\n",
      "|     450000|   150000.0|            50000.0|\n",
      "+-----------+-----------+-------------------+\n",
      "\n"
     ]
    }
   ],
   "source": [
    "from pyspark.sql.functions import sum,avg,stddev,count,\n",
    "ventas=vendedores.Ventas\n",
    "vendedores.select(sum(ventas),avg(ventas),stddev(ventas)).show()"
   ]
  },
  {
   "cell_type": "code",
   "execution_count": null,
   "metadata": {},
   "outputs": [],
   "source": []
  },
  {
   "cell_type": "code",
   "execution_count": null,
   "metadata": {},
   "outputs": [],
   "source": []
  }
 ],
 "metadata": {
  "kernelspec": {
   "display_name": "Python 3",
   "language": "python",
   "name": "python3"
  },
  "language_info": {
   "codemirror_mode": {
    "name": "ipython",
    "version": 3
   },
   "file_extension": ".py",
   "mimetype": "text/x-python",
   "name": "python",
   "nbconvert_exporter": "python",
   "pygments_lexer": "ipython3",
   "version": "3.5.2"
  },
  "toc": {
   "base_numbering": 1,
   "nav_menu": {},
   "number_sections": false,
   "sideBar": false,
   "skip_h1_title": false,
   "title_cell": "Table of Contents",
   "title_sidebar": "Contents",
   "toc_cell": false,
   "toc_position": {},
   "toc_section_display": false,
   "toc_window_display": false
  }
 },
 "nbformat": 4,
 "nbformat_minor": 2
}

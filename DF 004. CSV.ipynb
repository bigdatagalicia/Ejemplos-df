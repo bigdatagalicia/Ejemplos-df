{
 "cells": [
  {
   "cell_type": "code",
   "execution_count": 1,
   "metadata": {},
   "outputs": [],
   "source": [
    "vendedores=spark.read.csv(\"vendedores.csv\",sep=\";\",\n",
    "                          header=True,inferSchema=True)"
   ]
  },
  {
   "cell_type": "code",
   "execution_count": 2,
   "metadata": {},
   "outputs": [
    {
     "name": "stdout",
     "output_type": "stream",
     "text": [
      "+------+--------+------+\n",
      "|Nombre| Empresa|Ventas|\n",
      "+------+--------+------+\n",
      "| Pedro|  Google|100000|\n",
      "| María|Facebook|200000|\n",
      "| Marta|    null|150000|\n",
      "|   Ana|  Google|  null|\n",
      "|  null|Facebook|150000|\n",
      "+------+--------+------+\n",
      "\n"
     ]
    }
   ],
   "source": [
    "vendedores.show()"
   ]
  },
  {
   "cell_type": "code",
   "execution_count": 4,
   "metadata": {},
   "outputs": [
    {
     "name": "stdout",
     "output_type": "stream",
     "text": [
      "root\n",
      " |-- Nombre: string (nullable = true)\n",
      " |-- Empresa: string (nullable = true)\n",
      " |-- Ventas: integer (nullable = true)\n",
      "\n"
     ]
    }
   ],
   "source": [
    "vendedores.printSchema()"
   ]
  },
  {
   "cell_type": "code",
   "execution_count": 5,
   "metadata": {},
   "outputs": [
    {
     "name": "stdout",
     "output_type": "stream",
     "text": [
      "+-------+------+--------+----------------+\n",
      "|summary|Nombre| Empresa|          Ventas|\n",
      "+-------+------+--------+----------------+\n",
      "|  count|     4|       4|               4|\n",
      "|   mean|  null|    null|        150000.0|\n",
      "| stddev|  null|    null|40824.8290463863|\n",
      "|    min|   Ana|Facebook|          100000|\n",
      "|    25%|  null|    null|          100000|\n",
      "|    50%|  null|    null|          150000|\n",
      "|    75%|  null|    null|          150000|\n",
      "|    max| Pedro|  Google|          200000|\n",
      "+-------+------+--------+----------------+\n",
      "\n"
     ]
    }
   ],
   "source": [
    "vendedores.summary().show()"
   ]
  },
  {
   "cell_type": "code",
   "execution_count": 6,
   "metadata": {},
   "outputs": [],
   "source": [
    "empresas=vendedores.groupBy(\"Empresa\")"
   ]
  },
  {
   "cell_type": "code",
   "execution_count": 7,
   "metadata": {},
   "outputs": [
    {
     "name": "stdout",
     "output_type": "stream",
     "text": [
      "+--------+-----------+\n",
      "| Empresa|sum(Ventas)|\n",
      "+--------+-----------+\n",
      "|    null|     150000|\n",
      "|  Google|     100000|\n",
      "|Facebook|     350000|\n",
      "+--------+-----------+\n",
      "\n"
     ]
    }
   ],
   "source": [
    "empresas.sum().show()"
   ]
  },
  {
   "cell_type": "code",
   "execution_count": 9,
   "metadata": {},
   "outputs": [
    {
     "name": "stdout",
     "output_type": "stream",
     "text": [
      "+-----------+-----------+-------------------+\n",
      "|sum(Ventas)|avg(Ventas)|stddev_samp(Ventas)|\n",
      "+-----------+-----------+-------------------+\n",
      "|     600000|   150000.0|   40824.8290463863|\n",
      "+-----------+-----------+-------------------+\n",
      "\n"
     ]
    }
   ],
   "source": [
    "from pyspark.sql.functions import sum,avg,stddev,count\n",
    "ventas=vendedores.Ventas\n",
    "vendedores.select(sum(ventas),avg(ventas),stddev(ventas)).show()"
   ]
  },
  {
   "cell_type": "code",
   "execution_count": 18,
   "metadata": {},
   "outputs": [
    {
     "name": "stdout",
     "output_type": "stream",
     "text": [
      "+------+--------+------+\n",
      "|Nombre| Empresa|Ventas|\n",
      "+------+--------+------+\n",
      "| Pedro|  Google|100000|\n",
      "| María|Facebook|200000|\n",
      "|  null|Facebook|150000|\n",
      "+------+--------+------+\n",
      "\n"
     ]
    }
   ],
   "source": [
    "nuevoVendedores=vendedores.na.drop(how=\"any\",subset=[\"Ventas\"\n",
    "                                           ,\"Empresa\"])\n",
    "nuevoVendedores.show()"
   ]
  },
  {
   "cell_type": "code",
   "execution_count": 21,
   "metadata": {},
   "outputs": [
    {
     "name": "stdout",
     "output_type": "stream",
     "text": [
      "+------+--------+------+\n",
      "|Nombre| Empresa|Ventas|\n",
      "+------+--------+------+\n",
      "| Pedro|  Google|100000|\n",
      "| María|Facebook|200000|\n",
      "+------+--------+------+\n",
      "\n"
     ]
    }
   ],
   "source": [
    "nuevoVendedores=vendedores.na.drop(thresh=3)\n",
    "nuevoVendedores.show()"
   ]
  },
  {
   "cell_type": "code",
   "execution_count": 26,
   "metadata": {},
   "outputs": [
    {
     "name": "stdout",
     "output_type": "stream",
     "text": [
      "+----------+---------+------+\n",
      "|    Nombre|  Empresa|Ventas|\n",
      "+----------+---------+------+\n",
      "|     Pedro|   Google|100000|\n",
      "|     María| Facebook|200000|\n",
      "|     Marta|Empresa 1|150000|\n",
      "|       Ana|   Google|     0|\n",
      "|Vendedor A| Facebook|150000|\n",
      "+----------+---------+------+\n",
      "\n"
     ]
    }
   ],
   "source": [
    "nuevoVendedores=vendedores.na.fill(\"Vendedor A\",\n",
    "    subset=[\"Nombre\"]).na.fill(\"Empresa 1\",\n",
    "    subset=[\"Empresa\"]).na.fill(0,subset=[\"Ventas\"])\n",
    "nuevoVendedores.show()"
   ]
  },
  {
   "cell_type": "code",
   "execution_count": 41,
   "metadata": {},
   "outputs": [
    {
     "name": "stdout",
     "output_type": "stream",
     "text": [
      "+----------+---------+------+\n",
      "|    Nombre|  Empresa|Ventas|\n",
      "+----------+---------+------+\n",
      "|Vendedor B|Empresa 2|100000|\n",
      "|Vendedor C|Empresa 3|200000|\n",
      "|Vendedor D|Empresa 1|150000|\n",
      "|Vendedor E|Empresa 2|     0|\n",
      "|Vendedor A|Empresa 3|150000|\n",
      "+----------+---------+------+\n",
      "\n"
     ]
    }
   ],
   "source": [
    "empresas=[\"Google\",\"Facebook\"]\n",
    "empresasAnonimas=[\"Empresa 2\",\"Empresa 3\"]\n",
    "anonima=nuevoVendedores.replace(empresas,\n",
    "    empresasAnonimas,\"Empresa\").replace([\"Pedro\",\n",
    "    \"María\",\"Marta\",\"Ana\"],[\"Vendedor B\",\"Vendedor C\",\n",
    "    \"Vendedor D\",\"Vendedor E\"],\"Nombre\")\n",
    "anonima.show()"
   ]
  },
  {
   "cell_type": "code",
   "execution_count": null,
   "metadata": {},
   "outputs": [],
   "source": []
  }
 ],
 "metadata": {
  "kernelspec": {
   "display_name": "Python 3",
   "language": "python",
   "name": "python3"
  },
  "language_info": {
   "codemirror_mode": {
    "name": "ipython",
    "version": 3
   },
   "file_extension": ".py",
   "mimetype": "text/x-python",
   "name": "python",
   "nbconvert_exporter": "python",
   "pygments_lexer": "ipython3",
   "version": "3.5.2"
  },
  "toc": {
   "base_numbering": 1,
   "nav_menu": {},
   "number_sections": false,
   "sideBar": false,
   "skip_h1_title": false,
   "title_cell": "Table of Contents",
   "title_sidebar": "Contents",
   "toc_cell": false,
   "toc_position": {},
   "toc_section_display": false,
   "toc_window_display": false
  }
 },
 "nbformat": 4,
 "nbformat_minor": 2
}

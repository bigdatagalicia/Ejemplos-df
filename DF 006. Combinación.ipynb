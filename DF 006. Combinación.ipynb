{
 "cells": [
  {
   "cell_type": "code",
   "execution_count": 1,
   "metadata": {},
   "outputs": [],
   "source": [
    "listaP=[(\"Coruña\",1120000),\n",
    "       (\"Lugo\",333000),\n",
    "       (\"Ourense\",310000),\n",
    "       (\"Pontevedra\",940000)]"
   ]
  },
  {
   "cell_type": "code",
   "execution_count": 2,
   "metadata": {},
   "outputs": [],
   "source": [
    "pob=spark.createDataFrame(listaP,\n",
    "            [\"Provincia\",\"Población\"])"
   ]
  },
  {
   "cell_type": "code",
   "execution_count": 3,
   "metadata": {},
   "outputs": [
    {
     "name": "stdout",
     "output_type": "stream",
     "text": [
      "root\n",
      " |-- Provincia: string (nullable = true)\n",
      " |-- Población: long (nullable = true)\n",
      "\n",
      "+----------+---------+\n",
      "| Provincia|Población|\n",
      "+----------+---------+\n",
      "|    Coruña|  1120000|\n",
      "|      Lugo|   333000|\n",
      "|   Ourense|   310000|\n",
      "|Pontevedra|   940000|\n",
      "+----------+---------+\n",
      "\n"
     ]
    },
    {
     "data": {
      "text/plain": [
       "(None, None)"
      ]
     },
     "execution_count": 3,
     "metadata": {},
     "output_type": "execute_result"
    }
   ],
   "source": [
    "pob.printSchema(),pob.show()"
   ]
  },
  {
   "cell_type": "code",
   "execution_count": 4,
   "metadata": {},
   "outputs": [
    {
     "name": "stdout",
     "output_type": "stream",
     "text": [
      "root\n",
      " |-- Provincia: string (nullable = true)\n",
      " |-- Superficie: long (nullable = true)\n",
      "\n",
      "+----------+----------+\n",
      "| Provincia|Superficie|\n",
      "+----------+----------+\n",
      "|    Coruña|      7950|\n",
      "|      Lugo|      9800|\n",
      "|   Ourense|      7200|\n",
      "|Pontevedra|      4400|\n",
      "+----------+----------+\n",
      "\n"
     ]
    },
    {
     "data": {
      "text/plain": [
       "(None, None)"
      ]
     },
     "execution_count": 4,
     "metadata": {},
     "output_type": "execute_result"
    }
   ],
   "source": [
    "listaS=[(\"Coruña\",7950),\n",
    "       (\"Lugo\",9800),\n",
    "       (\"Ourense\",7200),\n",
    "       (\"Pontevedra\",4400)]\n",
    "sup=spark.createDataFrame(listaS,[\"Provincia\",\"Superficie\"])\n",
    "sup.printSchema(),sup.show()"
   ]
  },
  {
   "cell_type": "code",
   "execution_count": 5,
   "metadata": {},
   "outputs": [
    {
     "name": "stdout",
     "output_type": "stream",
     "text": [
      "+----------+---------+----------+\n",
      "| Provincia|Población|Superficie|\n",
      "+----------+---------+----------+\n",
      "|    Coruña|  1120000|      7950|\n",
      "|      Lugo|   333000|      9800|\n",
      "|   Ourense|   310000|      7200|\n",
      "|Pontevedra|   940000|      4400|\n",
      "+----------+---------+----------+\n",
      "\n"
     ]
    }
   ],
   "source": [
    "combinado=pob.join(sup,\"Provincia\")\n",
    "combinado.show()"
   ]
  },
  {
   "cell_type": "code",
   "execution_count": 6,
   "metadata": {},
   "outputs": [
    {
     "name": "stdout",
     "output_type": "stream",
     "text": [
      "+----------+---------+----------+------------------+\n",
      "| Provincia|Población|Superficie|          Densidad|\n",
      "+----------+---------+----------+------------------+\n",
      "|    Coruña|  1120000|      7950|140.88050314465409|\n",
      "|      Lugo|   333000|      9800| 33.97959183673469|\n",
      "|   Ourense|   310000|      7200| 43.05555555555556|\n",
      "|Pontevedra|   940000|      4400|213.63636363636363|\n",
      "+----------+---------+----------+------------------+\n",
      "\n"
     ]
    }
   ],
   "source": [
    "conDensidad=combinado.withColumn(\"Densidad\",\n",
    "    combinado[\"Población\"]/combinado[\"Superficie\"])\n",
    "conDensidad.show()"
   ]
  },
  {
   "cell_type": "code",
   "execution_count": 7,
   "metadata": {},
   "outputs": [
    {
     "data": {
      "application/vnd.jupyter.widget-view+json": {
       "model_id": "0fe97b89116446b8a5334f5f6246f901",
       "version_major": 2,
       "version_minor": 0
      }
     },
     "metadata": {},
     "output_type": "display_data"
    }
   ],
   "source": [
    "pand=conDensidad\\\n",
    "    .orderBy(conDensidad.Densidad.desc()).toPandas()\n",
    "pand"
   ]
  },
  {
   "cell_type": "code",
   "execution_count": 9,
   "metadata": {},
   "outputs": [
    {
     "data": {
      "text/plain": [
       "<matplotlib.axes._subplots.AxesSubplot at 0x7fcd5d6082b0>"
      ]
     },
     "execution_count": 9,
     "metadata": {},
     "output_type": "execute_result"
    },
    {
     "data": {
      "image/png": "[encoded data removed]",
      "text/plain": [
       "<Figure size 432x288 with 1 Axes>"
      ]
     },
     "metadata": {
      "needs_background": "light"
     },
     "output_type": "display_data"
    }
   ],
   "source": [
    "pand.plot.bar(x=\"Provincia\",y=\"Densidad\")"
   ]
  },
  {
   "cell_type": "code",
   "execution_count": 10,
   "metadata": {},
   "outputs": [
    {
     "data": {
      "application/vnd.jupyter.widget-view+json": {
       "model_id": "ae06fb741d3c4d2bba1ac4ba2a11f6a7",
       "version_major": 2,
       "version_minor": 0
      },
      "text/plain": [
       "VBox(children=(HBox(children=(HTML(value='Type:'), Button(description='Table', layout=Layout(width='70px'), st…"
      ]
     },
     "metadata": {},
     "output_type": "display_data"
    },
    {
     "data": {
      "application/vnd.jupyter.widget-view+json": {
       "model_id": "8e08e06d9b774f98b8ae028c27c657a1",
       "version_major": 2,
       "version_minor": 0
      },
      "text/plain": [
       "Output()"
      ]
     },
     "metadata": {},
     "output_type": "display_data"
    },
    {
     "data": {
      "application/vnd.jupyter.widget-view+json": {
       "model_id": "0f783d96d7d24cbabc1607500bbc8fbd",
       "version_major": 2,
       "version_minor": 0
      },
      "text/plain": [
       "AutoVizWidget()"
      ]
     },
     "metadata": {},
     "output_type": "display_data"
    }
   ],
   "source": [
    "from autovizwidget.widget.utils import display_dataframe\n",
    "\n",
    "display_dataframe(pand)"
   ]
  },
  {
   "cell_type": "code",
   "execution_count": 11,
   "metadata": {},
   "outputs": [
    {
     "data": {
      "text/plain": [
       "array([[<matplotlib.axes._subplots.AxesSubplot object at 0x7fcd5431ce10>,\n",
       "        <matplotlib.axes._subplots.AxesSubplot object at 0x7fcd542ba080>,\n",
       "        <matplotlib.axes._subplots.AxesSubplot object at 0x7fcd542d2358>],\n",
       "       [<matplotlib.axes._subplots.AxesSubplot object at 0x7fcd542ea710>,\n",
       "        <matplotlib.axes._subplots.AxesSubplot object at 0x7fcd54282ac8>,\n",
       "        <matplotlib.axes._subplots.AxesSubplot object at 0x7fcd5429bdd8>],\n",
       "       [<matplotlib.axes._subplots.AxesSubplot object at 0x7fcd542391d0>,\n",
       "        <matplotlib.axes._subplots.AxesSubplot object at 0x7fcd54250588>,\n",
       "        <matplotlib.axes._subplots.AxesSubplot object at 0x7fcd54268940>]],\n",
       "      dtype=object)"
      ]
     },
     "execution_count": 11,
     "metadata": {},
     "output_type": "execute_result"
    },
    {
     "data": {
      "image/png": "[encoded data removed]",
      "text/plain": [
       "<Figure size 432x288 with 9 Axes>"
      ]
     },
     "metadata": {
      "needs_background": "light"
     },
     "output_type": "display_data"
    }
   ],
   "source": [
    "from pandas.plotting import scatter_matrix\n",
    "\n",
    "scatter_matrix(pand)"
   ]
  },
  {
   "cell_type": "code",
   "execution_count": 30,
   "metadata": {},
   "outputs": [
    {
     "data": {
      "text/plain": [
       "-0.46406749351217397"
      ]
     },
     "execution_count": 30,
     "metadata": {},
     "output_type": "execute_result"
    }
   ],
   "source": [
    "conDensidad.corr(\"Población\",\"Superficie\")"
   ]
  },
  {
   "cell_type": "code",
   "execution_count": 31,
   "metadata": {},
   "outputs": [
    {
     "data": {
      "text/plain": [
       "0.8593605582615457"
      ]
     },
     "execution_count": 31,
     "metadata": {},
     "output_type": "execute_result"
    }
   ],
   "source": [
    "conDensidad.corr(\"Población\",\"Densidad\")"
   ]
  },
  {
   "cell_type": "code",
   "execution_count": null,
   "metadata": {},
   "outputs": [],
   "source": []
  }
 ],
 "metadata": {
  "kernelspec": {
   "display_name": "Python 3",
   "language": "python",
   "name": "python3"
  },
  "language_info": {
   "codemirror_mode": {
    "name": "ipython",
    "version": 3
   },
   "file_extension": ".py",
   "mimetype": "text/x-python",
   "name": "python",
   "nbconvert_exporter": "python",
   "pygments_lexer": "ipython3",
   "version": "3.5.2"
  },
  "toc": {
   "base_numbering": 1,
   "nav_menu": {},
   "number_sections": false,
   "sideBar": false,
   "skip_h1_title": false,
   "title_cell": "Table of Contents",
   "title_sidebar": "Contents",
   "toc_cell": false,
   "toc_position": {},
   "toc_section_display": false,
   "toc_window_display": false
  }
 },
 "nbformat": 4,
 "nbformat_minor": 2
}

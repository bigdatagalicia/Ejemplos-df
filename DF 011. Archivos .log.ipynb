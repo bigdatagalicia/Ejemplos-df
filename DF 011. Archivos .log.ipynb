{
 "cells": [
  {
   "cell_type": "code",
   "execution_count": 1,
   "metadata": {},
   "outputs": [],
   "source": [
    "datos=spark.read.text(\"access_log\")"
   ]
  },
  {
   "cell_type": "code",
   "execution_count": 2,
   "metadata": {},
   "outputs": [
    {
     "name": "stdout",
     "output_type": "stream",
     "text": [
      "root\n",
      " |-- value: string (nullable = true)\n",
      "\n"
     ]
    }
   ],
   "source": [
    "datos.printSchema()"
   ]
  },
  {
   "cell_type": "code",
   "execution_count": 6,
   "metadata": {},
   "outputs": [
    {
     "name": "stdout",
     "output_type": "stream",
     "text": [
      "+--------------------+\n",
      "|               value|\n",
      "+--------------------+\n",
      "|64.242.88.10 - - ...|\n",
      "|64.242.88.10 - - ...|\n",
      "+--------------------+\n",
      "only showing top 2 rows\n",
      "\n"
     ]
    }
   ],
   "source": [
    "datos.show(2,truncate=True)"
   ]
  },
  {
   "cell_type": "code",
   "execution_count": 7,
   "metadata": {},
   "outputs": [],
   "source": [
    "from pyspark.sql.functions import regexp_extract"
   ]
  },
  {
   "cell_type": "code",
   "execution_count": 15,
   "metadata": {},
   "outputs": [],
   "source": [
    "patron=\"(.+) - - \\[(.+)\\]\"\n",
    "info=datos.select(regexp_extract(\"value\",patron,1).alias(\"IP\"),\n",
    "            regexp_extract(\"value\",patron,2).alias(\"Fecha\"))"
   ]
  },
  {
   "cell_type": "code",
   "execution_count": 16,
   "metadata": {},
   "outputs": [
    {
     "data": {
      "text/plain": [
       "(1546, 1145)"
      ]
     },
     "execution_count": 16,
     "metadata": {},
     "output_type": "execute_result"
    }
   ],
   "source": [
    "info.count(),info.distinct().count()"
   ]
  },
  {
   "cell_type": "code",
   "execution_count": 17,
   "metadata": {},
   "outputs": [
    {
     "name": "stdout",
     "output_type": "stream",
     "text": [
      "+--------------------+--------------------+\n",
      "|                  IP|               Fecha|\n",
      "+--------------------+--------------------+\n",
      "| prxint-sxb3.e-i.net|08/Mar/2004:04:29...|\n",
      "|market-mail.pandu...|08/Mar/2004:13:00...|\n",
      "|        64.242.88.10|07/Mar/2004:19:49...|\n",
      "|        64.242.88.10|08/Mar/2004:07:10...|\n",
      "|        64.242.88.10|08/Mar/2004:07:29...|\n",
      "|  fw1.millardref.com|09/Mar/2004:08:18...|\n",
      "|        64.242.88.10|07/Mar/2004:19:54...|\n",
      "|        64.242.88.10|07/Mar/2004:21:31...|\n",
      "|        64.242.88.10|07/Mar/2004:22:06...|\n",
      "|200.160.249.68.bm...|08/Mar/2004:05:02...|\n",
      "|        64.242.88.10|08/Mar/2004:05:22...|\n",
      "|       128.227.88.79|08/Mar/2004:06:47...|\n",
      "|        64.242.88.10|08/Mar/2004:08:12...|\n",
      "|       128.227.88.79|08/Mar/2004:11:06...|\n",
      "|market-mail.pandu...|08/Mar/2004:13:00...|\n",
      "|          10.0.0.153|10/Mar/2004:08:36...|\n",
      "|          10.0.0.153|12/Mar/2004:12:23...|\n",
      "|        64.242.88.10|08/Mar/2004:02:59...|\n",
      "|      ogw.netinfo.bg|11/Mar/2004:06:11...|\n",
      "|          10.0.0.153|11/Mar/2004:15:52...|\n",
      "+--------------------+--------------------+\n",
      "only showing top 20 rows\n",
      "\n"
     ]
    }
   ],
   "source": [
    "info.distinct().show()"
   ]
  },
  {
   "cell_type": "code",
   "execution_count": 18,
   "metadata": {},
   "outputs": [
    {
     "name": "stdout",
     "output_type": "stream",
     "text": [
      "root\n",
      " |-- IP: string (nullable = true)\n",
      " |-- Fecha: string (nullable = true)\n",
      "\n"
     ]
    }
   ],
   "source": [
    "info.printSchema()"
   ]
  },
  {
   "cell_type": "code",
   "execution_count": 49,
   "metadata": {},
   "outputs": [],
   "source": [
    "from pyspark.sql.functions import to_timestamp\n",
    "\n",
    "info2=info.withColumn(\"Fecha\",to_timestamp(\"Fecha\",\"dd/MMM/yyyy:H:m:s z\"))"
   ]
  },
  {
   "cell_type": "code",
   "execution_count": 50,
   "metadata": {},
   "outputs": [
    {
     "name": "stdout",
     "output_type": "stream",
     "text": [
      "+------------+-------------------+\n",
      "|          IP|              Fecha|\n",
      "+------------+-------------------+\n",
      "|64.242.88.10|2004-03-08 01:05:49|\n",
      "|64.242.88.10|2004-03-08 01:06:51|\n",
      "|64.242.88.10|2004-03-08 01:10:02|\n",
      "|64.242.88.10|2004-03-08 01:11:58|\n",
      "|64.242.88.10|2004-03-08 01:20:55|\n",
      "|64.242.88.10|2004-03-08 01:23:12|\n",
      "|64.242.88.10|2004-03-08 01:24:16|\n",
      "|64.242.88.10|2004-03-08 01:29:16|\n",
      "|64.242.88.10|2004-03-08 01:30:29|\n",
      "|64.242.88.10|2004-03-08 01:31:48|\n",
      "|64.242.88.10|2004-03-08 01:32:50|\n",
      "|64.242.88.10|2004-03-08 01:33:53|\n",
      "|64.242.88.10|2004-03-08 01:35:19|\n",
      "|64.242.88.10|2004-03-08 01:36:22|\n",
      "|64.242.88.10|2004-03-08 01:37:27|\n",
      "|64.242.88.10|2004-03-08 01:39:24|\n",
      "|64.242.88.10|2004-03-08 01:43:54|\n",
      "|64.242.88.10|2004-03-08 01:45:56|\n",
      "|64.242.88.10|2004-03-08 01:47:12|\n",
      "|64.242.88.10|2004-03-08 01:47:46|\n",
      "+------------+-------------------+\n",
      "only showing top 20 rows\n",
      "\n"
     ]
    }
   ],
   "source": [
    "info2.show()"
   ]
  },
  {
   "cell_type": "code",
   "execution_count": null,
   "metadata": {},
   "outputs": [],
   "source": []
  }
 ],
 "metadata": {
  "kernelspec": {
   "display_name": "Python 3",
   "language": "python",
   "name": "python3"
  },
  "language_info": {
   "codemirror_mode": {
    "name": "ipython",
    "version": 3
   },
   "file_extension": ".py",
   "mimetype": "text/x-python",
   "name": "python",
   "nbconvert_exporter": "python",
   "pygments_lexer": "ipython3",
   "version": "3.5.2"
  },
  "toc": {
   "base_numbering": 1,
   "nav_menu": {},
   "number_sections": false,
   "sideBar": false,
   "skip_h1_title": false,
   "title_cell": "Table of Contents",
   "title_sidebar": "Contents",
   "toc_cell": false,
   "toc_position": {},
   "toc_section_display": false,
   "toc_window_display": false
  }
 },
 "nbformat": 4,
 "nbformat_minor": 2
}

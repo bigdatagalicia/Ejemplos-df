{
 "cells": [
  {
   "cell_type": "code",
   "execution_count": 1,
   "metadata": {},
   "outputs": [],
   "source": [
    "paro=spark.read.csv(\"paro/\",sep=\";\",header=True,\n",
    "                    encoding=\"cp1252\",inferSchema=True)"
   ]
  },
  {
   "cell_type": "code",
   "execution_count": 2,
   "metadata": {},
   "outputs": [
    {
     "name": "stdout",
     "output_type": "stream",
     "text": [
      "-RECORD 0----------------------------------------\n",
      " Código mes               | 201801               \n",
      " mes                      | Enero de 2018        \n",
      " Código de CA             | 1                    \n",
      " Comunidad Autónoma       | Andalucía            \n",
      " Codigo Provincia         | 4                    \n",
      " Provincia                | Almería              \n",
      " Codigo Municipio         | 4001                 \n",
      "  Municipio               | Abla                 \n",
      " total Paro Registrado    | 77                   \n",
      " Paro hombre edad < 25    | 3                    \n",
      " Paro hombre edad 25 -45  | 17                   \n",
      " Paro hombre edad >=45    | 25                   \n",
      " Paro mujer edad < 25     | 4                    \n",
      " Paro mujer edad 25 -45   | 20                   \n",
      " Paro mujer edad >=45     | 8                    \n",
      " Paro Agricultura         | 11                   \n",
      " Paro Industria           | 8                    \n",
      " Paro Construcción        | 7                    \n",
      " Paro Servicios           | 50                   \n",
      " Paro Sin empleo Anterior | 1                    \n",
      "-RECORD 1----------------------------------------\n",
      " Código mes               | 201801               \n",
      " mes                      | Enero de 2018        \n",
      " Código de CA             | 1                    \n",
      " Comunidad Autónoma       | Andalucía            \n",
      " Codigo Provincia         | 4                    \n",
      " Provincia                | Almería              \n",
      " Codigo Municipio         | 4002                 \n",
      "  Municipio               | Abrucena             \n",
      " total Paro Registrado    | 69                   \n",
      " Paro hombre edad < 25    | 3                    \n",
      " Paro hombre edad 25 -45  | 12                   \n",
      " Paro hombre edad >=45    | 20                   \n",
      " Paro mujer edad < 25     | 5                    \n",
      " Paro mujer edad 25 -45   | 20                   \n",
      " Paro mujer edad >=45     | 9                    \n",
      " Paro Agricultura         | 12                   \n",
      " Paro Industria           | 2                    \n",
      " Paro Construcción        | 15                   \n",
      " Paro Servicios           | 38                   \n",
      " Paro Sin empleo Anterior | 2                    \n",
      "-RECORD 2----------------------------------------\n",
      " Código mes               | 201801               \n",
      " mes                      | Enero de 2018        \n",
      " Código de CA             | 1                    \n",
      " Comunidad Autónoma       | Andalucía            \n",
      " Codigo Provincia         | 4                    \n",
      " Provincia                | Almería              \n",
      " Codigo Municipio         | 4003                 \n",
      "  Municipio               | Adra                 \n",
      " total Paro Registrado    | 2001                 \n",
      " Paro hombre edad < 25    | 87                   \n",
      " Paro hombre edad 25 -45  | 342                  \n",
      " Paro hombre edad >=45    | 419                  \n",
      " Paro mujer edad < 25     | 83                   \n",
      " Paro mujer edad 25 -45   | 585                  \n",
      " Paro mujer edad >=45     | 485                  \n",
      " Paro Agricultura         | 371                  \n",
      " Paro Industria           | 76                   \n",
      " Paro Construcción        | 229                  \n",
      " Paro Servicios           | 1119                 \n",
      " Paro Sin empleo Anterior | 206                  \n",
      "-RECORD 3----------------------------------------\n",
      " Código mes               | 201801               \n",
      " mes                      | Enero de 2018        \n",
      " Código de CA             | 1                    \n",
      " Comunidad Autónoma       | Andalucía            \n",
      " Codigo Provincia         | 4                    \n",
      " Provincia                | Almería              \n",
      " Codigo Municipio         | 4004                 \n",
      "  Municipio               | Albánchez            \n",
      " total Paro Registrado    | 31                   \n",
      " Paro hombre edad < 25    | 1                    \n",
      " Paro hombre edad 25 -45  | 5                    \n",
      " Paro hombre edad >=45    | 9                    \n",
      " Paro mujer edad < 25     | 4                    \n",
      " Paro mujer edad 25 -45   | 8                    \n",
      " Paro mujer edad >=45     | 4                    \n",
      " Paro Agricultura         | 2                    \n",
      " Paro Industria           | 4                    \n",
      " Paro Construcción        | 3                    \n",
      " Paro Servicios           | 21                   \n",
      " Paro Sin empleo Anterior | 1                    \n",
      "-RECORD 4----------------------------------------\n",
      " Código mes               | 201801               \n",
      " mes                      | Enero de 2018        \n",
      " Código de CA             | 1                    \n",
      " Comunidad Autónoma       | Andalucía            \n",
      " Codigo Provincia         | 4                    \n",
      " Provincia                | Almería              \n",
      " Codigo Municipio         | 4005                 \n",
      "  Municipio               | Alboloduy            \n",
      " total Paro Registrado    | 33                   \n",
      " Paro hombre edad < 25    | 1                    \n",
      " Paro hombre edad 25 -45  | 11                   \n",
      " Paro hombre edad >=45    | 11                   \n",
      " Paro mujer edad < 25     | 0                    \n",
      " Paro mujer edad 25 -45   | 6                    \n",
      " Paro mujer edad >=45     | 4                    \n",
      " Paro Agricultura         | 6                    \n",
      " Paro Industria           | 4                    \n",
      " Paro Construcción        | 3                    \n",
      " Paro Servicios           | 19                   \n",
      " Paro Sin empleo Anterior | 1                    \n",
      "-RECORD 5----------------------------------------\n",
      " Código mes               | 201801               \n",
      " mes                      | Enero de 2018        \n",
      " Código de CA             | 1                    \n",
      " Comunidad Autónoma       | Andalucía            \n",
      " Codigo Provincia         | 4                    \n",
      " Provincia                | Almería              \n",
      " Codigo Municipio         | 4006                 \n",
      "  Municipio               | Albox                \n",
      " total Paro Registrado    | 827                  \n",
      " Paro hombre edad < 25    | 27                   \n",
      " Paro hombre edad 25 -45  | 183                  \n",
      " Paro hombre edad >=45    | 178                  \n",
      " Paro mujer edad < 25     | 39                   \n",
      " Paro mujer edad 25 -45   | 232                  \n",
      " Paro mujer edad >=45     | 168                  \n",
      " Paro Agricultura         | 67                   \n",
      " Paro Industria           | 45                   \n",
      " Paro Construcción        | 105                  \n",
      " Paro Servicios           | 561                  \n",
      " Paro Sin empleo Anterior | 49                   \n",
      "-RECORD 6----------------------------------------\n",
      " Código mes               | 201801               \n",
      " mes                      | Enero de 2018        \n",
      " Código de CA             | 1                    \n",
      " Comunidad Autónoma       | Andalucía            \n",
      " Codigo Provincia         | 4                    \n",
      " Provincia                | Almería              \n",
      " Codigo Municipio         | 4007                 \n",
      "  Municipio               | Alcolea              \n",
      " total Paro Registrado    | 78                   \n",
      " Paro hombre edad < 25    | 5                    \n",
      " Paro hombre edad 25 -45  | 12                   \n",
      " Paro hombre edad >=45    | 34                   \n",
      " Paro mujer edad < 25     | 6                    \n",
      " Paro mujer edad 25 -45   | 13                   \n",
      " Paro mujer edad >=45     | 8                    \n",
      " Paro Agricultura         | 15                   \n",
      " Paro Industria           | 4                    \n",
      " Paro Construcción        | 12                   \n",
      " Paro Servicios           | 45                   \n",
      " Paro Sin empleo Anterior | 2                    \n",
      "-RECORD 7----------------------------------------\n",
      " Código mes               | 201801               \n",
      " mes                      | Enero de 2018        \n",
      " Código de CA             | 1                    \n",
      " Comunidad Autónoma       | Andalucía            \n",
      " Codigo Provincia         | 4                    \n",
      " Provincia                | Almería              \n",
      " Codigo Municipio         | 4008                 \n",
      "  Municipio               | Alcóntar             \n",
      " total Paro Registrado    | 28                   \n",
      " Paro hombre edad < 25    | 0                    \n",
      " Paro hombre edad 25 -45  | 4                    \n",
      " Paro hombre edad >=45    | 11                   \n",
      " Paro mujer edad < 25     | 1                    \n",
      " Paro mujer edad 25 -45   | 7                    \n",
      " Paro mujer edad >=45     | 5                    \n",
      " Paro Agricultura         | 3                    \n",
      " Paro Industria           | 0                    \n",
      " Paro Construcción        | 8                    \n",
      " Paro Servicios           | 17                   \n",
      " Paro Sin empleo Anterior | 0                    \n",
      "-RECORD 8----------------------------------------\n",
      " Código mes               | 201801               \n",
      " mes                      | Enero de 2018        \n",
      " Código de CA             | 1                    \n",
      " Comunidad Autónoma       | Andalucía            \n",
      " Codigo Provincia         | 4                    \n",
      " Provincia                | Almería              \n",
      " Codigo Municipio         | 4009                 \n",
      "  Municipio               | Alcudia de Monteagud \n",
      " total Paro Registrado    | 10                   \n",
      " Paro hombre edad < 25    | 0                    \n",
      " Paro hombre edad 25 -45  | 1                    \n",
      " Paro hombre edad >=45    | 5                    \n",
      " Paro mujer edad < 25     | 0                    \n",
      " Paro mujer edad 25 -45   | 1                    \n",
      " Paro mujer edad >=45     | 3                    \n",
      " Paro Agricultura         | 0                    \n",
      " Paro Industria           | 0                    \n",
      " Paro Construcción        | 0                    \n",
      " Paro Servicios           | 10                   \n",
      " Paro Sin empleo Anterior | 0                    \n",
      "-RECORD 9----------------------------------------\n",
      " Código mes               | 201801               \n",
      " mes                      | Enero de 2018        \n",
      " Código de CA             | 1                    \n",
      " Comunidad Autónoma       | Andalucía            \n",
      " Codigo Provincia         | 4                    \n",
      " Provincia                | Almería              \n",
      " Codigo Municipio         | 4010                 \n",
      "  Municipio               | Alhabia              \n",
      " total Paro Registrado    | 84                   \n",
      " Paro hombre edad < 25    | 4                    \n",
      " Paro hombre edad 25 -45  | 18                   \n",
      " Paro hombre edad >=45    | 28                   \n",
      " Paro mujer edad < 25     | 1                    \n",
      " Paro mujer edad 25 -45   | 20                   \n",
      " Paro mujer edad >=45     | 13                   \n",
      " Paro Agricultura         | 1                    \n",
      " Paro Industria           | 15                   \n",
      " Paro Construcción        | 28                   \n",
      " Paro Servicios           | 32                   \n",
      " Paro Sin empleo Anterior | 8                    \n",
      "-RECORD 10---------------------------------------\n",
      " Código mes               | 201801               \n",
      " mes                      | Enero de 2018        \n",
      " Código de CA             | 1                    \n",
      " Comunidad Autónoma       | Andalucía            \n",
      " Codigo Provincia         | 4                    \n",
      " Provincia                | Almería              \n",
      " Codigo Municipio         | 4011                 \n",
      "  Municipio               | Alhama de Almería    \n",
      " total Paro Registrado    | 357                  \n",
      " Paro hombre edad < 25    | 11                   \n",
      " Paro hombre edad 25 -45  | 66                   \n",
      " Paro hombre edad >=45    | 82                   \n",
      " Paro mujer edad < 25     | 15                   \n",
      " Paro mujer edad 25 -45   | 91                   \n",
      " Paro mujer edad >=45     | 92                   \n",
      " Paro Agricultura         | 25                   \n",
      " Paro Industria           | 31                   \n",
      " Paro Construcción        | 35                   \n",
      " Paro Servicios           | 234                  \n",
      " Paro Sin empleo Anterior | 32                   \n",
      "-RECORD 11---------------------------------------\n",
      " Código mes               | 201801               \n",
      " mes                      | Enero de 2018        \n",
      " Código de CA             | 1                    \n",
      " Comunidad Autónoma       | Andalucía            \n",
      " Codigo Provincia         | 4                    \n",
      " Provincia                | Almería              \n",
      " Codigo Municipio         | 4012                 \n",
      "  Municipio               | Alicún               \n",
      " total Paro Registrado    | 31                   \n",
      " Paro hombre edad < 25    | 0                    \n",
      " Paro hombre edad 25 -45  | 5                    \n",
      " Paro hombre edad >=45    | 9                    \n",
      " Paro mujer edad < 25     | 1                    \n",
      " Paro mujer edad 25 -45   | 5                    \n",
      " Paro mujer edad >=45     | 11                   \n",
      " Paro Agricultura         | 3                    \n",
      " Paro Industria           | 3                    \n",
      " Paro Construcción        | 2                    \n",
      " Paro Servicios           | 22                   \n",
      " Paro Sin empleo Anterior | 1                    \n",
      "-RECORD 12---------------------------------------\n",
      " Código mes               | 201801               \n",
      " mes                      | Enero de 2018        \n",
      " Código de CA             | 1                    \n",
      " Comunidad Autónoma       | Andalucía            \n",
      " Codigo Provincia         | 4                    \n",
      " Provincia                | Almería              \n",
      " Codigo Municipio         | 4013                 \n",
      "  Municipio               | Almería              \n",
      " total Paro Registrado    | 19209                \n",
      " Paro hombre edad < 25    | 669                  \n",
      " Paro hombre edad 25 -45  | 3727                 \n",
      " Paro hombre edad >=45    | 4224                 \n",
      " Paro mujer edad < 25     | 688                  \n",
      " Paro mujer edad 25 -45   | 5026                 \n",
      " Paro mujer edad >=45     | 4875                 \n",
      " Paro Agricultura         | 1265                 \n",
      " Paro Industria           | 650                  \n",
      " Paro Construcción        | 2122                 \n",
      " Paro Servicios           | 12981                \n",
      " Paro Sin empleo Anterior | 2191                 \n",
      "-RECORD 13---------------------------------------\n",
      " Código mes               | 201801               \n",
      " mes                      | Enero de 2018        \n",
      " Código de CA             | 1                    \n",
      " Comunidad Autónoma       | Andalucía            \n",
      " Codigo Provincia         | 4                    \n",
      " Provincia                | Almería              \n",
      " Codigo Municipio         | 4014                 \n",
      "  Municipio               | Almócita             \n",
      " total Paro Registrado    | 11                   \n",
      " Paro hombre edad < 25    | 0                    \n",
      " Paro hombre edad 25 -45  | 2                    \n",
      " Paro hombre edad >=45    | 4                    \n",
      " Paro mujer edad < 25     | 0                    \n",
      " Paro mujer edad 25 -45   | 4                    \n",
      " Paro mujer edad >=45     | 1                    \n",
      " Paro Agricultura         | 0                    \n",
      " Paro Industria           | 1                    \n",
      " Paro Construcción        | 0                    \n",
      " Paro Servicios           | 9                    \n",
      " Paro Sin empleo Anterior | 1                    \n",
      "-RECORD 14---------------------------------------\n",
      " Código mes               | 201801               \n",
      " mes                      | Enero de 2018        \n",
      " Código de CA             | 1                    \n",
      " Comunidad Autónoma       | Andalucía            \n",
      " Codigo Provincia         | 4                    \n",
      " Provincia                | Almería              \n",
      " Codigo Municipio         | 4015                 \n",
      "  Municipio               | Alsodux              \n",
      " total Paro Registrado    | 8                    \n",
      " Paro hombre edad < 25    | 1                    \n",
      " Paro hombre edad 25 -45  | 2                    \n",
      " Paro hombre edad >=45    | 1                    \n",
      " Paro mujer edad < 25     | 0                    \n",
      " Paro mujer edad 25 -45   | 3                    \n",
      " Paro mujer edad >=45     | 1                    \n",
      " Paro Agricultura         | 0                    \n",
      " Paro Industria           | 1                    \n",
      " Paro Construcción        | 1                    \n",
      " Paro Servicios           | 6                    \n",
      " Paro Sin empleo Anterior | 0                    \n",
      "-RECORD 15---------------------------------------\n",
      " Código mes               | 201801               \n",
      " mes                      | Enero de 2018        \n",
      " Código de CA             | 1                    \n",
      " Comunidad Autónoma       | Andalucía            \n",
      " Codigo Provincia         | 4                    \n",
      " Provincia                | Almería              \n",
      " Codigo Municipio         | 4016                 \n",
      "  Municipio               | Antas                \n",
      " total Paro Registrado    | 132                  \n",
      " Paro hombre edad < 25    | 7                    \n",
      " Paro hombre edad 25 -45  | 18                   \n",
      " Paro hombre edad >=45    | 26                   \n",
      " Paro mujer edad < 25     | 3                    \n",
      " Paro mujer edad 25 -45   | 42                   \n",
      " Paro mujer edad >=45     | 36                   \n",
      " Paro Agricultura         | 14                   \n",
      " Paro Industria           | 5                    \n",
      " Paro Construcción        | 8                    \n",
      " Paro Servicios           | 96                   \n",
      " Paro Sin empleo Anterior | 9                    \n",
      "-RECORD 16---------------------------------------\n",
      " Código mes               | 201801               \n",
      " mes                      | Enero de 2018        \n",
      " Código de CA             | 1                    \n",
      " Comunidad Autónoma       | Andalucía            \n",
      " Codigo Provincia         | 4                    \n",
      " Provincia                | Almería              \n",
      " Codigo Municipio         | 4017                 \n",
      "  Municipio               | Arboleas             \n",
      " total Paro Registrado    | 152                  \n",
      " Paro hombre edad < 25    | 11                   \n",
      " Paro hombre edad 25 -45  | 25                   \n",
      " Paro hombre edad >=45    | 31                   \n",
      " Paro mujer edad < 25     | 11                   \n",
      " Paro mujer edad 25 -45   | 45                   \n",
      " Paro mujer edad >=45     | 29                   \n",
      " Paro Agricultura         | 11                   \n",
      " Paro Industria           | 9                    \n",
      " Paro Construcción        | 28                   \n",
      " Paro Servicios           | 91                   \n",
      " Paro Sin empleo Anterior | 13                   \n",
      "-RECORD 17---------------------------------------\n",
      " Código mes               | 201801               \n",
      " mes                      | Enero de 2018        \n",
      " Código de CA             | 1                    \n",
      " Comunidad Autónoma       | Andalucía            \n",
      " Codigo Provincia         | 4                    \n",
      " Provincia                | Almería              \n",
      " Codigo Municipio         | 4018                 \n",
      "  Municipio               | Armuña de Almanzora  \n",
      " total Paro Registrado    | 18                   \n",
      " Paro hombre edad < 25    | 0                    \n",
      " Paro hombre edad 25 -45  | 6                    \n",
      " Paro hombre edad >=45    | 5                    \n",
      " Paro mujer edad < 25     | 0                    \n",
      " Paro mujer edad 25 -45   | 3                    \n",
      " Paro mujer edad >=45     | 4                    \n",
      " Paro Agricultura         | 0                    \n",
      " Paro Industria           | 0                    \n",
      " Paro Construcción        | 6                    \n",
      " Paro Servicios           | 11                   \n",
      " Paro Sin empleo Anterior | 1                    \n",
      "-RECORD 18---------------------------------------\n",
      " Código mes               | 201801               \n",
      " mes                      | Enero de 2018        \n",
      " Código de CA             | 1                    \n",
      " Comunidad Autónoma       | Andalucía            \n",
      " Codigo Provincia         | 4                    \n",
      " Provincia                | Almería              \n",
      " Codigo Municipio         | 4019                 \n",
      "  Municipio               | Bacares              \n",
      " total Paro Registrado    | 7                    \n",
      " Paro hombre edad < 25    | 1                    \n",
      " Paro hombre edad 25 -45  | 1                    \n",
      " Paro hombre edad >=45    | 1                    \n",
      " Paro mujer edad < 25     | 0                    \n",
      " Paro mujer edad 25 -45   | 1                    \n",
      " Paro mujer edad >=45     | 3                    \n",
      " Paro Agricultura         | 0                    \n",
      " Paro Industria           | 1                    \n",
      " Paro Construcción        | 0                    \n",
      " Paro Servicios           | 6                    \n",
      " Paro Sin empleo Anterior | 0                    \n",
      "-RECORD 19---------------------------------------\n",
      " Código mes               | 201801               \n",
      " mes                      | Enero de 2018        \n",
      " Código de CA             | 1                    \n",
      " Comunidad Autónoma       | Andalucía            \n",
      " Codigo Provincia         | 4                    \n",
      " Provincia                | Almería              \n",
      " Codigo Municipio         | 4020                 \n",
      "  Municipio               | Bayárcal             \n",
      " total Paro Registrado    | 12                   \n",
      " Paro hombre edad < 25    | 0                    \n",
      " Paro hombre edad 25 -45  | 1                    \n",
      " Paro hombre edad >=45    | 5                    \n",
      " Paro mujer edad < 25     | 2                    \n",
      " Paro mujer edad 25 -45   | 2                    \n",
      " Paro mujer edad >=45     | 2                    \n",
      " Paro Agricultura         | 1                    \n",
      " Paro Industria           | 0                    \n",
      " Paro Construcción        | 1                    \n",
      " Paro Servicios           | 10                   \n",
      " Paro Sin empleo Anterior | 0                    \n",
      "only showing top 20 rows\n",
      "\n"
     ]
    }
   ],
   "source": [
    "paro.show(vertical=True)"
   ]
  },
  {
   "cell_type": "code",
   "execution_count": 3,
   "metadata": {},
   "outputs": [
    {
     "name": "stdout",
     "output_type": "stream",
     "text": [
      "root\n",
      " |-- Código mes : integer (nullable = true)\n",
      " |-- mes: string (nullable = true)\n",
      " |-- Código de CA: integer (nullable = true)\n",
      " |-- Comunidad Autónoma: string (nullable = true)\n",
      " |-- Codigo Provincia: integer (nullable = true)\n",
      " |-- Provincia: string (nullable = true)\n",
      " |-- Codigo Municipio: integer (nullable = true)\n",
      " |--  Municipio: string (nullable = true)\n",
      " |-- total Paro Registrado: integer (nullable = true)\n",
      " |-- Paro hombre edad < 25: integer (nullable = true)\n",
      " |-- Paro hombre edad 25 -45 : integer (nullable = true)\n",
      " |-- Paro hombre edad >=45: integer (nullable = true)\n",
      " |-- Paro mujer edad < 25: integer (nullable = true)\n",
      " |-- Paro mujer edad 25 -45 : integer (nullable = true)\n",
      " |-- Paro mujer edad >=45: integer (nullable = true)\n",
      " |-- Paro Agricultura: integer (nullable = true)\n",
      " |-- Paro Industria: integer (nullable = true)\n",
      " |-- Paro Construcción: integer (nullable = true)\n",
      " |-- Paro Servicios: integer (nullable = true)\n",
      " |-- Paro Sin empleo Anterior: integer (nullable = true)\n",
      "\n"
     ]
    }
   ],
   "source": [
    "paro.printSchema()"
   ]
  },
  {
   "cell_type": "code",
   "execution_count": 4,
   "metadata": {},
   "outputs": [
    {
     "data": {
      "text/plain": [
       "['Código mes ',\n",
       " 'mes',\n",
       " 'Código de CA',\n",
       " 'Comunidad Autónoma',\n",
       " 'Codigo Provincia',\n",
       " 'Provincia',\n",
       " 'Codigo Municipio',\n",
       " ' Municipio',\n",
       " 'total Paro Registrado',\n",
       " 'Paro hombre edad < 25',\n",
       " 'Paro hombre edad 25 -45 ',\n",
       " 'Paro hombre edad >=45',\n",
       " 'Paro mujer edad < 25',\n",
       " 'Paro mujer edad 25 -45 ',\n",
       " 'Paro mujer edad >=45',\n",
       " 'Paro Agricultura',\n",
       " 'Paro Industria',\n",
       " 'Paro Construcción',\n",
       " 'Paro Servicios',\n",
       " 'Paro Sin empleo Anterior']"
      ]
     },
     "execution_count": 4,
     "metadata": {},
     "output_type": "execute_result"
    }
   ],
   "source": [
    "paro.columns"
   ]
  },
  {
   "cell_type": "code",
   "execution_count": 5,
   "metadata": {},
   "outputs": [],
   "source": [
    "paro2=paro.drop('mes',\n",
    " 'Código de CA','Codigo Provincia','Codigo Municipio')"
   ]
  },
  {
   "cell_type": "code",
   "execution_count": 6,
   "metadata": {},
   "outputs": [
    {
     "name": "stdout",
     "output_type": "stream",
     "text": [
      "+-----------+------------------+---------+--------------------+---------------------+---------------------+------------------------+---------------------+--------------------+-----------------------+--------------------+----------------+--------------+-----------------+--------------+------------------------+\n",
      "|Código mes |Comunidad Autónoma|Provincia|           Municipio|total Paro Registrado|Paro hombre edad < 25|Paro hombre edad 25 -45 |Paro hombre edad >=45|Paro mujer edad < 25|Paro mujer edad 25 -45 |Paro mujer edad >=45|Paro Agricultura|Paro Industria|Paro Construcción|Paro Servicios|Paro Sin empleo Anterior|\n",
      "+-----------+------------------+---------+--------------------+---------------------+---------------------+------------------------+---------------------+--------------------+-----------------------+--------------------+----------------+--------------+-----------------+--------------+------------------------+\n",
      "|     201801|         Andalucía|  Almería|                Abla|                   77|                    3|                      17|                   25|                   4|                     20|                   8|              11|             8|                7|            50|                       1|\n",
      "|     201801|         Andalucía|  Almería|            Abrucena|                   69|                    3|                      12|                   20|                   5|                     20|                   9|              12|             2|               15|            38|                       2|\n",
      "|     201801|         Andalucía|  Almería|                Adra|                 2001|                   87|                     342|                  419|                  83|                    585|                 485|             371|            76|              229|          1119|                     206|\n",
      "|     201801|         Andalucía|  Almería|           Albánchez|                   31|                    1|                       5|                    9|                   4|                      8|                   4|               2|             4|                3|            21|                       1|\n",
      "|     201801|         Andalucía|  Almería|           Alboloduy|                   33|                    1|                      11|                   11|                   0|                      6|                   4|               6|             4|                3|            19|                       1|\n",
      "|     201801|         Andalucía|  Almería|               Albox|                  827|                   27|                     183|                  178|                  39|                    232|                 168|              67|            45|              105|           561|                      49|\n",
      "|     201801|         Andalucía|  Almería|             Alcolea|                   78|                    5|                      12|                   34|                   6|                     13|                   8|              15|             4|               12|            45|                       2|\n",
      "|     201801|         Andalucía|  Almería|            Alcóntar|                   28|                    0|                       4|                   11|                   1|                      7|                   5|               3|             0|                8|            17|                       0|\n",
      "|     201801|         Andalucía|  Almería|Alcudia de Monteagud|                   10|                    0|                       1|                    5|                   0|                      1|                   3|               0|             0|                0|            10|                       0|\n",
      "|     201801|         Andalucía|  Almería|             Alhabia|                   84|                    4|                      18|                   28|                   1|                     20|                  13|               1|            15|               28|            32|                       8|\n",
      "|     201801|         Andalucía|  Almería|   Alhama de Almería|                  357|                   11|                      66|                   82|                  15|                     91|                  92|              25|            31|               35|           234|                      32|\n",
      "|     201801|         Andalucía|  Almería|              Alicún|                   31|                    0|                       5|                    9|                   1|                      5|                  11|               3|             3|                2|            22|                       1|\n",
      "|     201801|         Andalucía|  Almería|             Almería|                19209|                  669|                    3727|                 4224|                 688|                   5026|                4875|            1265|           650|             2122|         12981|                    2191|\n",
      "|     201801|         Andalucía|  Almería|            Almócita|                   11|                    0|                       2|                    4|                   0|                      4|                   1|               0|             1|                0|             9|                       1|\n",
      "|     201801|         Andalucía|  Almería|             Alsodux|                    8|                    1|                       2|                    1|                   0|                      3|                   1|               0|             1|                1|             6|                       0|\n",
      "|     201801|         Andalucía|  Almería|               Antas|                  132|                    7|                      18|                   26|                   3|                     42|                  36|              14|             5|                8|            96|                       9|\n",
      "|     201801|         Andalucía|  Almería|            Arboleas|                  152|                   11|                      25|                   31|                  11|                     45|                  29|              11|             9|               28|            91|                      13|\n",
      "|     201801|         Andalucía|  Almería| Armuña de Almanzora|                   18|                    0|                       6|                    5|                   0|                      3|                   4|               0|             0|                6|            11|                       1|\n",
      "|     201801|         Andalucía|  Almería|             Bacares|                    7|                    1|                       1|                    1|                   0|                      1|                   3|               0|             1|                0|             6|                       0|\n",
      "|     201801|         Andalucía|  Almería|            Bayárcal|                   12|                    0|                       1|                    5|                   2|                      2|                   2|               1|             0|                1|            10|                       0|\n",
      "+-----------+------------------+---------+--------------------+---------------------+---------------------+------------------------+---------------------+--------------------+-----------------------+--------------------+----------------+--------------+-----------------+--------------+------------------------+\n",
      "only showing top 20 rows\n",
      "\n"
     ]
    }
   ],
   "source": [
    "paro2.show()"
   ]
  },
  {
   "cell_type": "code",
   "execution_count": 7,
   "metadata": {},
   "outputs": [
    {
     "name": "stdout",
     "output_type": "stream",
     "text": [
      "root\n",
      " |-- Código mes : integer (nullable = true)\n",
      " |-- Comunidad Autónoma: string (nullable = true)\n",
      " |-- Provincia: string (nullable = true)\n",
      " |--  Municipio: string (nullable = true)\n",
      " |-- total Paro Registrado: integer (nullable = true)\n",
      " |-- Paro hombre edad < 25: integer (nullable = true)\n",
      " |-- Paro hombre edad 25 -45 : integer (nullable = true)\n",
      " |-- Paro hombre edad >=45: integer (nullable = true)\n",
      " |-- Paro mujer edad < 25: integer (nullable = true)\n",
      " |-- Paro mujer edad 25 -45 : integer (nullable = true)\n",
      " |-- Paro mujer edad >=45: integer (nullable = true)\n",
      " |-- Paro Agricultura: integer (nullable = true)\n",
      " |-- Paro Industria: integer (nullable = true)\n",
      " |-- Paro Construcción: integer (nullable = true)\n",
      " |-- Paro Servicios: integer (nullable = true)\n",
      " |-- Paro Sin empleo Anterior: integer (nullable = true)\n",
      "\n"
     ]
    }
   ],
   "source": [
    "paro2.printSchema()"
   ]
  },
  {
   "cell_type": "code",
   "execution_count": 8,
   "metadata": {},
   "outputs": [
    {
     "name": "stdout",
     "output_type": "stream",
     "text": [
      "+-----------+----------+---------------------+\n",
      "|Código mes | Municipio|total Paro Registrado|\n",
      "+-----------+----------+---------------------+\n",
      "|     201808|Porriño, O|                 1473|\n",
      "+-----------+----------+---------------------+\n",
      "\n"
     ]
    }
   ],
   "source": [
    "paro2.select('Código mes ',' Municipio','total Paro Registrado')\\\n",
    "    .where(paro2[' Municipio'].contains(\"Porriño\"))\\\n",
    "    .where(paro2['Código mes ']==201808).show()"
   ]
  },
  {
   "cell_type": "code",
   "execution_count": 9,
   "metadata": {},
   "outputs": [
    {
     "name": "stdout",
     "output_type": "stream",
     "text": [
      "+-----------+----------+---------------------+\n",
      "|Código mes | Municipio|total Paro Registrado|\n",
      "+-----------+----------+---------------------+\n",
      "|     201808|Porriño, O|                 1473|\n",
      "+-----------+----------+---------------------+\n",
      "\n"
     ]
    }
   ],
   "source": [
    "paro2.select('Código mes ',' Municipio','total Paro Registrado')\\\n",
    "    .where(paro2[' Municipio'].contains(\"Porriño\") & \n",
    "           (paro2['Código mes ']==201808)).show()"
   ]
  },
  {
   "cell_type": "code",
   "execution_count": 10,
   "metadata": {},
   "outputs": [],
   "source": [
    "paroPandas=paro2.select('Código mes ',' Municipio','total Paro Registrado')\\\n",
    "    .where(paro2[' Municipio'].contains(\"Porriño\")).toPandas()"
   ]
  },
  {
   "cell_type": "code",
   "execution_count": 18,
   "metadata": {},
   "outputs": [
    {
     "data": {
      "text/plain": [
       "<matplotlib.axes._subplots.AxesSubplot at 0x7f6b99944780>"
      ]
     },
     "execution_count": 18,
     "metadata": {},
     "output_type": "execute_result"
    },
    {
     "data": {
      "image/png": "[encoded data removed]",
      "text/plain": [
       "<Figure size 432x288 with 1 Axes>"
      ]
     },
     "metadata": {
      "needs_background": "light"
     },
     "output_type": "display_data"
    }
   ],
   "source": [
    "paroPandas.plot.line(y='total Paro Registrado')"
   ]
  },
  {
   "cell_type": "code",
   "execution_count": 12,
   "metadata": {},
   "outputs": [
    {
     "data": {
      "text/plain": [
       "['Código mes ',\n",
       " 'Comunidad Autónoma',\n",
       " 'Provincia',\n",
       " ' Municipio',\n",
       " 'total Paro Registrado',\n",
       " 'Paro hombre edad < 25',\n",
       " 'Paro hombre edad 25 -45 ',\n",
       " 'Paro hombre edad >=45',\n",
       " 'Paro mujer edad < 25',\n",
       " 'Paro mujer edad 25 -45 ',\n",
       " 'Paro mujer edad >=45',\n",
       " 'Paro Agricultura',\n",
       " 'Paro Industria',\n",
       " 'Paro Construcción',\n",
       " 'Paro Servicios',\n",
       " 'Paro Sin empleo Anterior']"
      ]
     },
     "execution_count": 12,
     "metadata": {},
     "output_type": "execute_result"
    }
   ],
   "source": [
    "paro2.columns"
   ]
  },
  {
   "cell_type": "code",
   "execution_count": 19,
   "metadata": {},
   "outputs": [
    {
     "name": "stdout",
     "output_type": "stream",
     "text": [
      "+------------------+------+\n",
      "|Comunidad Autónoma| Total|\n",
      "+------------------+------+\n",
      "|         Andalucía|792577|\n",
      "|          Cataluña|380718|\n",
      "+------------------+------+\n",
      "only showing top 2 rows\n",
      "\n"
     ]
    }
   ],
   "source": [
    "agostoCCAA=paro2.where(paro2['Código mes ']==201808)\\\n",
    "    .groupBy('Comunidad Autónoma').sum('total Paro Registrado')\\\n",
    "    .orderBy(\"sum(total Paro Registrado)\",ascending=False)\\\n",
    "    .withColumnRenamed(\"sum(total Paro Registrado)\",\"Total\")\n",
    "agostoCCAA.show(n=2)"
   ]
  },
  {
   "cell_type": "code",
   "execution_count": 20,
   "metadata": {},
   "outputs": [
    {
     "data": {
      "text/plain": [
       "<matplotlib.axes._subplots.AxesSubplot at 0x7f6b988d7860>"
      ]
     },
     "execution_count": 20,
     "metadata": {},
     "output_type": "execute_result"
    },
    {
     "data": {
      "image/png": "[encoded data removed]",
      "text/plain": [
       "<Figure size 432x288 with 1 Axes>"
      ]
     },
     "metadata": {
      "needs_background": "light"
     },
     "output_type": "display_data"
    }
   ],
   "source": [
    "CCAAP=agostoCCAA.toPandas()\n",
    "CCAAP.plot.bar(x=\"Comunidad Autónoma\")"
   ]
  },
  {
   "cell_type": "code",
   "execution_count": 15,
   "metadata": {},
   "outputs": [
    {
     "data": {
      "text/plain": [
       "['Comunidad Autónoma', 'Total']"
      ]
     },
     "execution_count": 15,
     "metadata": {},
     "output_type": "execute_result"
    }
   ],
   "source": [
    "agostoCCAA.columns"
   ]
  },
  {
   "cell_type": "code",
   "execution_count": 21,
   "metadata": {},
   "outputs": [],
   "source": [
    "agostoCCAA=paro2.where(paro2['Código mes ']==201808)\\\n",
    "    .groupBy('Comunidad Autónoma').sum()"
   ]
  },
  {
   "cell_type": "code",
   "execution_count": 22,
   "metadata": {},
   "outputs": [
    {
     "name": "stdout",
     "output_type": "stream",
     "text": [
      "root\n",
      " |-- Comunidad Autónoma: string (nullable = true)\n",
      " |-- sum(Código mes ): long (nullable = true)\n",
      " |-- sum(total Paro Registrado): long (nullable = true)\n",
      " |-- sum(Paro hombre edad < 25): long (nullable = true)\n",
      " |-- sum(Paro hombre edad 25 -45 ): long (nullable = true)\n",
      " |-- sum(Paro hombre edad >=45): long (nullable = true)\n",
      " |-- sum(Paro mujer edad < 25): long (nullable = true)\n",
      " |-- sum(Paro mujer edad 25 -45 ): long (nullable = true)\n",
      " |-- sum(Paro mujer edad >=45): long (nullable = true)\n",
      " |-- sum(Paro Agricultura): long (nullable = true)\n",
      " |-- sum(Paro Industria): long (nullable = true)\n",
      " |-- sum(Paro Construcción): long (nullable = true)\n",
      " |-- sum(Paro Servicios): long (nullable = true)\n",
      " |-- sum(Paro Sin empleo Anterior): long (nullable = true)\n",
      " |-- hombres: long (nullable = true)\n",
      " |-- mujeres: long (nullable = true)\n",
      "\n",
      "+--------------------+-------+-------+\n",
      "|  Comunidad Autónoma|hombres|mujeres|\n",
      "+--------------------+-------+-------+\n",
      "|              Aragón|  24711|  37759|\n",
      "|Comunitat Valenciana| 151850| 221209|\n",
      "|           Cantabria|  14486|  18344|\n",
      "|         Extremadura|  37823|  60824|\n",
      "|             Galicia|  68245|  96179|\n",
      "|      Balears, Illes|  17600|  21027|\n",
      "|               Ceuta|   4884|   7184|\n",
      "|            Canarias|  87407| 119610|\n",
      "|           Andalucía| 327763| 464814|\n",
      "|Asturias, Princip...|  29584|  38709|\n",
      "|Navarra, Comunida...|  13002|  19662|\n",
      "|           Rioja, La|   6388|   9436|\n",
      "|Castilla - La Mancha|  61674| 110075|\n",
      "|            Cataluña| 161038| 219680|\n",
      "|     Castilla y León|  58004|  83139|\n",
      "|   Murcia, Región de|  41441|  60796|\n",
      "|          País Vasco|  52613|  70993|\n",
      "|Madrid, Comunidad de| 144664| 209449|\n",
      "|             Melilla|   3817|   6185|\n",
      "+--------------------+-------+-------+\n",
      "\n"
     ]
    }
   ],
   "source": [
    "porSeparado=agostoCCAA.withColumn(\"hombres\",\n",
    " agostoCCAA['sum(Paro hombre edad < 25)']+\n",
    " agostoCCAA['sum(Paro hombre edad 25 -45 )']+\n",
    " agostoCCAA['sum(Paro hombre edad >=45)'])\\\n",
    ".withColumn(\"mujeres\",\n",
    " agostoCCAA['sum(Paro mujer edad < 25)']+\n",
    " agostoCCAA['sum(Paro mujer edad 25 -45 )']+\n",
    " agostoCCAA['sum(Paro mujer edad >=45)'])\n",
    "\n",
    "porSeparado.printSchema(),\n",
    "porSeparado.select(\"Comunidad Autónoma\",\n",
    "                   \"hombres\",\"mujeres\").show()"
   ]
  },
  {
   "cell_type": "code",
   "execution_count": null,
   "metadata": {},
   "outputs": [],
   "source": []
  },
  {
   "cell_type": "code",
   "execution_count": null,
   "metadata": {},
   "outputs": [],
   "source": []
  },
  {
   "cell_type": "code",
   "execution_count": null,
   "metadata": {},
   "outputs": [],
   "source": []
  }
 ],
 "metadata": {
  "kernelspec": {
   "display_name": "Python 3",
   "language": "python",
   "name": "python3"
  },
  "language_info": {
   "codemirror_mode": {
    "name": "ipython",
    "version": 3
   },
   "file_extension": ".py",
   "mimetype": "text/x-python",
   "name": "python",
   "nbconvert_exporter": "python",
   "pygments_lexer": "ipython3",
   "version": "3.5.2"
  },
  "toc": {
   "base_numbering": 1,
   "nav_menu": {},
   "number_sections": false,
   "sideBar": false,
   "skip_h1_title": false,
   "title_cell": "Table of Contents",
   "title_sidebar": "Contents",
   "toc_cell": false,
   "toc_position": {},
   "toc_section_display": false,
   "toc_window_display": false
  }
 },
 "nbformat": 4,
 "nbformat_minor": 2
}
